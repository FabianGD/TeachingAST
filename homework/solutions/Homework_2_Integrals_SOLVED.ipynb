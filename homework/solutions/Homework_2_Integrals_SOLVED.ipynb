{
 "cells": [
  {
   "cell_type": "markdown",
   "metadata": {
    "colab_type": "text",
    "id": "view-in-github"
   },
   "source": [
    "<a href=\"https://colab.research.google.com/github/FabianGD/TeachingAST/blob/master/AST_Homework_nr_2_Integrals.ipynb\" target=\"_parent\"><img src=\"https://colab.research.google.com/assets/colab-badge.svg\" alt=\"Open In Colab\"/></a>"
   ]
  },
  {
   "cell_type": "markdown",
   "metadata": {
    "colab_type": "text",
    "id": "-jR15CuQZrpI"
   },
   "source": [
    "# Homework \\#2 -- Scientific computing\n",
    "\n",
    "In this second part of the programming lessons, we want to build a small Hartree-Fock quantum chemistry program in Python."
   ]
  },
  {
   "cell_type": "markdown",
   "metadata": {
    "colab_type": "text",
    "id": "5NN6lZuTZ4lY"
   },
   "source": [
    "## 1 Basis functions\n",
    "\n",
    "\n",
    "One key element of the Hartree-Fock approach are overlap integrals of the basis functions. We will use Gaussian-type basis function with the form:\n",
    "\n",
    "$$\n",
    "\\eta_\\mu(r) = n_\\mu \\cdot e^{-\\mu r^2 }\n",
    "$$\n",
    "\n",
    "<!--For this task we will operate in spherical coordinates, such that in theory, the basis function takes the form:\n",
    "\n",
    "$$\n",
    "\\eta_\\mu(r, \\theta, \\varphi) = n_\\mu \\cdot e^{-\\mu r^2 }\n",
    "$$\n",
    "\n",
    "Of course the function does not have a dependency on $\\theta$ and $\\varphi$, however, we still need to consider them later on. -->\n",
    "\n",
    "The parameter $\\mu$ is the exponent that defines the basis set. So now, our first task is to find out how to normalise the basis functions, as these Gaussian functions are generally not normalised out-of-the-box. In quantum chemistry, we define normalisation as follows. \"$\\mathbf{r}$\" resembles a three-dimensional space $\\mathbb{R}^3$ (such as cartesian or spherical coordinates):\n",
    "\n",
    "$$\n",
    "\\langle \\phi | \\phi \\rangle = \\int \\phi^*(\\mathbf{r}) \\phi(\\mathbf{r}) \\mathrm{d}\\mathbf{r} = 1\n",
    "$$\n"
   ]
  },
  {
   "cell_type": "markdown",
   "metadata": {
    "colab_type": "text",
    "id": "mJVwd6BK9oGx"
   },
   "source": [
    "### 1.1 Normalise the basis functions (math)\n",
    "\n",
    "Your first task is to **find the value for the normalisation parameter $n_\\mu$**. To do so, solve the following integral for $n_\\mu$:\n",
    "\n",
    "$$\n",
    "1 = \\int\\limits_0^{2\\pi}  \\int\\limits_0^{\\pi}  \\int\\limits_0^{\\infty} \\eta^*_\\mu(r) \\eta_\\mu(r)~r^2 \\mathrm{sin}\\theta~\\mathrm{dr}\\,\\mathrm{d\\theta}\\,\\mathrm{d\\varphi}\n",
    "$$\n",
    "\n",
    "Hints: \n",
    "- $\\int_0^\\infty x^2 e^{-ax^2} \\mathrm{d}x = \\dfrac{\\sqrt{\\pi}}{4 \\cdot a^ {3/2}}\\quad \\mathrm{for}\\quad \\Re(a) > 0$.\n",
    "\n",
    "- The first integral refers to $\\varphi$, the second to $\\theta$ and the last to $r$.\n",
    "- The integrals over $\\varphi$ and $\\theta$ should add up to a factor of $4\\pi$."
   ]
  },
  {
   "cell_type": "markdown",
   "metadata": {
    "colab_type": "text",
    "id": "lMpsA8HQs4zr"
   },
   "source": [
    "**Write your answer here.** If you do not know the LaTeX notation, you can also write it as code below. Just double-click on this text cell to edit it."
   ]
  },
  {
   "cell_type": "markdown",
   "metadata": {
    "colab_type": "text",
    "id": "JEBA3w0d9COR"
   },
   "source": [
    "### 1.2 Calculate the analytical overlap integral (math)\n",
    "\n",
    "Now that we have the normalised basis functions, we can continue. The second important quantity we need is the overlap between two basis functions. We denote this quantity as $s_{\\mu \\nu}$. Solve the following integration (the angular components are already integrated):\n",
    "\n",
    "$$\n",
    "s_{\\mu \\nu} = 4  \\pi \\int\\limits_0^{\\infty} \\eta_\\nu(r) \\eta_\\mu(r)~r^2~\\mathrm{dr}\n",
    "$$"
   ]
  },
  {
   "cell_type": "markdown",
   "metadata": {
    "colab_type": "text",
    "id": "hVEHwlYohfrL"
   },
   "source": [
    "**Write your answer here.** If you do not know the LaTeX notation, you can also write it as code below. Just double-click on this text cell to edit it."
   ]
  },
  {
   "cell_type": "markdown",
   "metadata": {
    "colab_type": "text",
    "id": "C7_3MqfgtQyz"
   },
   "source": [
    "### 1.3 Implementing basis functions in Python\n",
    "\n",
    "\n",
    "\n"
   ]
  },
  {
   "cell_type": "markdown",
   "metadata": {
    "colab_type": "text",
    "id": "cloCz0BE89Wv"
   },
   "source": [
    "So now we start out building our integrals in Python. To see how the functions compare speed-wise, we will implement three similar approaches to the overlap integral:\n",
    "\n",
    "**Task**: **Implement the basis function** $\\eta_\\mu(r)$ in Python.\n",
    "The normalisation parameter $n_\\mu$ should be implemented as a function of $\\mu$ (write it `mu` in Python)\n"
   ]
  },
  {
   "cell_type": "code",
   "execution_count": null,
   "metadata": {
    "colab": {},
    "colab_type": "code",
    "id": "Zw8QBr2qZWsW"
   },
   "outputs": [],
   "source": [
    "import numpy as np\n",
    "import matplotlib.pyplot as plt\n",
    "\n",
    "\n",
    "# Define here the functiion n(mu)\n",
    "def n(mu):\n",
    "    norm_factor = ((2 * mu)/ np.pi) ** 0.75\n",
    "    return norm_factor\n",
    "\n",
    "\n",
    "# Define here the function eta(mu, r)\n",
    "def eta(mu, r):\n",
    "    return n(mu) * np.exp(-mu * r ** 2)\n",
    "\n",
    "\n",
    "# Now define some basis function and an array of `r` and plot the function\n",
    "mu = 0.5\n",
    "\n",
    "r = np.linspace(0, 5, num=1000)\n",
    "p = eta(mu, r)\n",
    "\n",
    "plt.plot(r, p)"
   ]
  },
  {
   "cell_type": "markdown",
   "metadata": {
    "colab_type": "text",
    "id": "i03otIMAETD6"
   },
   "source": [
    "### 1.4 Build the integration functions (advanced)"
   ]
  },
  {
   "cell_type": "markdown",
   "metadata": {
    "colab_type": "text",
    "id": "r57tWNbEBgys"
   },
   "source": [
    "Now that we have the basis functions in place, we can think of the integrals (which are basically the most important quantity in a Hartree-Fock program).\n",
    "\n",
    "1. We will take the naive approach by **calculating the integral via lists** and list comprehension. \n",
    "  - Here build a **function of two exponents `mu1` and `mu2` and an array of r values**.\n",
    "\n",
    "2. Refine the naive approach by **re-implementing the above function using numpy arrays**.\n",
    "\n",
    "3. Implement the **analytical integral** using your result.\n",
    "  - This function should only take two exponents `m1` and `m2`!\n",
    "\n",
    "In the end of the cell you find some code to actually take the time it takes for the function to run. In Colab notebooks, you can use \"magic commands\" (those with a `%` before that) such as `%timeit`. This will not work in standard Python!"
   ]
  },
  {
   "cell_type": "code",
   "execution_count": null,
   "metadata": {
    "colab": {},
    "colab_type": "code",
    "id": "sbUGE9puEdH9"
   },
   "outputs": [],
   "source": [
    "import numpy as np\n",
    "import matplotlib.pyplot as plt\n",
    "\n",
    "\n",
    "# Here goes the numerical integral using lists\n",
    "def numerical_integ(mu1, mu2, r):\n",
    "    # here goes your function\n",
    "    return 4 * np.pi * sum([eta(mu1, ri) * eta(mu2, ri) * ri**2 for ri in r]) * (r[1]-r[0])\n",
    "\n",
    "\n",
    "# Here goes the numerical integral using numpy\n",
    "def numerical_integ_numpy(mu1, mu2, r):\n",
    "  # here goes your function\n",
    "    return 4 * np.pi * np.sum(eta(mu1, r) * eta(mu2, r) * r**2) * (r[1]-r[0])\n",
    "\n",
    "\n",
    "# Here goes the analytical integral\n",
    "def analyt_integ(mu1, mu2):\n",
    "  # here goes your function\n",
    "  return n(mu1) * n(mu2) * (np.pi / (mu1 + mu2))**(1.5)\n",
    "\n",
    "\n",
    "# Define some test values\n",
    "mu1 = 1.0\n",
    "mu2 = 6\n",
    "x = np.linspace(0, 5, num=1000)\n",
    "\n",
    "# These statements give you a precise timing of the time it takes to run \n",
    "%timeit numerical_integ(mu1, mu2, x)\n",
    "%timeit numerical_integ_numpy(mu1, mu2, x)\n",
    "%timeit analyt_integ(mu1, mu2)\n",
    "\n",
    "# Print the results of each integration\n",
    "print(numerical_integ(mu1, mu2, x))\n",
    "print(numerical_integ_numpy(mu1, mu2, x))\n",
    "print(analyt_integ(mu1, mu2))"
   ]
  },
  {
   "cell_type": "markdown",
   "metadata": {
    "colab_type": "text",
    "id": "8rRlvtn7OQu_"
   },
   "source": [
    "## 2 Calculating $\\pi$ using random numbers\n",
    "\n",
    "A very peculiar thing to do is calculate the value of $\\pi$.\n",
    "As you might know, $\\pi$ is an irrational number and therefore, cannot be easily calculated using fractions. So one approach to calculate $\\pi$ is by using its properties as the circle number.\n",
    "\n",
    "![alt text](https://upload.wikimedia.org/wikipedia/commons/1/1f/Pi_statistisch.png)\n",
    "\n",
    "The idea is the following: The ratio of the area of a circle relative to the area of a square gives you $\\frac{\\pi}{4}$:\n",
    "\n",
    "$$\n",
    "\\dfrac{\\mathrm{Area~of~circle}}{\\mathrm{Area~of~square}} = \\dfrac{\\pi \\cdot r^2}{(2r)^2} = \\dfrac{\\pi}{4}\n",
    "$$\n",
    "\n",
    "In order to approach the area statistically, we can generate a large amount of random points in the square and then ask Python whether the point is within the circle (see the image, the red dots). The condition is:\n",
    "\n",
    "$$\n",
    "x^2 + y^2 \\le 1\n",
    "$$\n",
    "\n",
    "So, how to go over it:\n",
    " - Initiate two variables: \n",
    "    1. The total number of points, e.g. `nr_total = 100000`\n",
    "    1. the number of points within the circle, has to be `nr_circle = 0`\n",
    " - Build a `for` loop over the number of random points you want, `nr_total`.\n",
    " - Then generate two random numbers for it, one `x` and one `y` value. Use the the `random.random()` function from the `random` library for both. The function generates a random float in the interval $[0, 1.0)$.\n",
    " - Then use an `if-else` statement to ask Python whether the point (x,y) is within the circle (with the condition above)\n",
    " - If the answer is `True`, then add `1` to the `nr_circle` variable.\n",
    " - After the loop, calculate $\\pi$ using the formula above. The area of the circle is corresponding to the number of points in the circle."
   ]
  },
  {
   "cell_type": "code",
   "execution_count": null,
   "metadata": {
    "colab": {
     "base_uri": "https://localhost:8080/",
     "height": 35
    },
    "colab_type": "code",
    "id": "ilewI3Qjchlm",
    "outputId": "988ea6a4-8580-4d0f-fb14-3b86b32ecc16"
   },
   "outputs": [],
   "source": [
    "import random\n",
    "import timeit\n",
    "\n",
    "# Initialise the variables\n",
    "nr_total = 10\n",
    "nr_circle = 0\n",
    "\n",
    "# Build the for loop:\n",
    "for i in range(nr_total):\n",
    "    x = random.random()\n",
    "    y = random.random()\n",
    "\n",
    "    if x**2 + y**2 <= 1:\n",
    "        nr_circle = nr_circle + 1\n",
    "\n",
    "pi = (nr_circle / nr_total) * 4 \n",
    "\n",
    "print(pi)\n",
    "\n",
    "\n"
   ]
  },
  {
   "cell_type": "markdown",
   "metadata": {
    "colab_type": "text",
    "id": "XV5YLomoiy3l"
   },
   "source": [
    "## 3 Fill-in-the blanks: Matrix multiplication"
   ]
  },
  {
   "cell_type": "markdown",
   "metadata": {
    "colab_type": "text",
    "id": "BOdms6MEojy7"
   },
   "source": [
    "In this last task you will build the matrix multiplication function from notebook #2. In order to get a working function, you need to, first, fill in the blanks, indicated by `< ... >` characters and, second, put the parts together in the correct order (and indentation level!).\n",
    "\n",
    "\n",
    "**The math you may need for it:** Assume we have two matrices $\\mathbf{A}$ and $\\mathbf{B}$ with elements $a_{ij}$ and $b_{jk}$ (the indices with the same letter *have* to match!), we can multiply them to get a matrix $\\mathbf{C}$ with elements $c_{ik}$ like so:\n",
    "\n",
    "$$\n",
    "c_{ik} = \\sum\\limits_j a_{ij} \\cdot b_{jk} \n",
    "$$\n",
    "\n",
    "This, of course, has to be conducted *for every entry* of $i$ and $k$.\n",
    "\n"
   ]
  },
  {
   "cell_type": "code",
   "execution_count": null,
   "metadata": {
    "colab": {},
    "colab_type": "code",
    "id": "xkgfXT1diwWs"
   },
   "outputs": [],
   "source": [
    "# Here goes your function, call it `mat_check()`\n",
    "def mat_check(mat1, mat2, inout):\n",
    "  \n",
    "    # First matrix\n",
    "    if inout[0] == \"row\":\n",
    "        l1 = len(mat1)\n",
    "    else:\n",
    "        l1 = len(mat1[0])\n",
    "\n",
    "    # Second matrix\n",
    "    if inout[-1] == \"row\":\n",
    "        l2 = len(mat2)\n",
    "    else:\n",
    "        l2 = len(mat2[0])\n",
    "\n",
    "    if l1 == l2:\n",
    "        return True\n",
    "    else:\n",
    "        return False\n",
    "\n",
    "\n",
    "# --> Fill in the blanks! <--\n",
    "\n",
    "matrix1 = [[3, -6], \n",
    "           [-9, 1],\n",
    "           [ 3, 5]]\n",
    "\n",
    "matrix2 = [[2, 4, -6], \n",
    "           [1, -9, 2]]\n",
    "\n",
    "\n",
    "# 1. Check the inner and outer indices\n",
    "if mat_check(matrix1, matrix2, [\"col\", \"row\"]):\n",
    "    \n",
    "    # print(\"The dimensions work out!\")\n",
    "    # Here, the code will continue\n",
    "    pass\n",
    "\n",
    "else:\n",
    "    \n",
    "    raise Exception(\"Dimensions do not match.\")\n",
    "\n",
    "\n",
    "# 2. Build a new matrix (a matrix of zeros.)\n",
    "row_1 = len(matrix1)\n",
    "col_2 = len(matrix2[0])\n",
    "\n",
    "# Hint: Wherever you do not need a loop variable, in Python you usually assign\n",
    "# it to an underscore character `_`. (It's just a convention under developers.)\n",
    "res = [ [0. for _ in range(col_2)] for _ in range(row_1) ]\n",
    "\n",
    "# 3. Build the computation itself\n",
    "# Hint: To index an element of the inner list, \n",
    "# you can concatenate the indexing --> matrix[1][1]\n",
    "inner = col_1 = len(matrix1[0])\n",
    "for i in range(row_1):\n",
    "    for k in range(col_2):\n",
    "        res[i][k] = sum([matrix1[i][j] * matrix2[j][k] for j in range(inner)])\n",
    "\n",
    "print(res)\n",
    "\n",
    "# --> Now put all the parts together <--\n",
    "def matrix_matrix(m1, m2):\n",
    "    # 1. Check the inner and outer indices\n",
    "    if mat_check(matrix1, matrix2, [\"col\", \"row\"]):\n",
    "        \n",
    "        print(\"The dimensions work out!\")\n",
    "        \n",
    "        # 2. Build a new matrix (a matrix of zeros.)\n",
    "        row_1 = len(matrix1)\n",
    "        col_2 = len(matrix2[0])\n",
    "\n",
    "        # Hint: Wherever you do not need a loop variable, in Python you usually assign\n",
    "        # it to an underscore character `_`. (It's just a convention under developers.)\n",
    "        res = [ [0. for _ in range(col_2)] for _ in range(row_1) ]\n",
    "\n",
    "        # 3. The computation itself \n",
    "        inner = col_1 = len(matrix1[0])\n",
    "        for i in range(row_1):\n",
    "            for k in range(col_2):\n",
    "                res[i][k] = sum([matrix1[i][j] * matrix2[j][k] for j in range(inner)])\n",
    "    \n",
    "    else:\n",
    "        raise Exception(\"Dimensions do not match.\")\n",
    "\n",
    "    return res\n",
    "\n",
    "\n",
    "# --> Get to trying out <--\n",
    "# Test your function\n",
    "mres = matrix_matrix(matrix1, matrix2)\n",
    "\n",
    "# Test that our calculation is correct using the numpy library (we will get to that later!)\n",
    "import numpy as np\n",
    "mres_np = np.matmul(matrix1, matrix2)\n",
    "print(\"Is the result correct?\", np.all(np.array(mres) == mres_np))"
   ]
  }
 ],
 "metadata": {
  "colab": {
   "authorship_tag": "ABX9TyMD8nVJb6HDIXuY2EP15uN6",
   "collapsed_sections": [],
   "include_colab_link": true,
   "name": "AST // Homework nr. 2 -- Integrals ",
   "provenance": [],
   "toc_visible": true
  },
  "kernelspec": {
   "display_name": "Python 3",
   "language": "python",
   "name": "python3"
  },
  "language_info": {
   "codemirror_mode": {
    "name": "ipython",
    "version": 3
   },
   "file_extension": ".py",
   "mimetype": "text/x-python",
   "name": "python",
   "nbconvert_exporter": "python",
   "pygments_lexer": "ipython3",
   "version": "3.8.2"
  }
 },
 "nbformat": 4,
 "nbformat_minor": 1
}

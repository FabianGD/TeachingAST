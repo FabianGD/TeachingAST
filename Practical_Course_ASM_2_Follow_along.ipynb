{
  "nbformat": 4,
  "nbformat_minor": 0,
  "metadata": {
    "colab": {
      "name": "Practical Course ASM // 2 -- Follow along",
      "provenance": [],
      "collapsed_sections": [],
      "toc_visible": true,
      "authorship_tag": "ABX9TyNNWdXSK+Nb6YhSJVFYJBJA",
      "include_colab_link": true
    },
    "kernelspec": {
      "name": "python3",
      "display_name": "Python 3"
    }
  },
  "cells": [
    {
      "cell_type": "markdown",
      "metadata": {
        "id": "view-in-github",
        "colab_type": "text"
      },
      "source": [
        "<a href=\"https://colab.research.google.com/github/FabianGD/TeachingAST/blob/master/Practical_Course_ASM_2_Follow_along.ipynb\" target=\"_parent\"><img src=\"https://colab.research.google.com/assets/colab-badge.svg\" alt=\"Open In Colab\"/></a>"
      ]
    },
    {
      "cell_type": "markdown",
      "metadata": {
        "id": "0oAljo-EDN2B",
        "colab_type": "text"
      },
      "source": [
        "# Next steps in Python programming\n",
        "\n",
        "## Short recap\n",
        "\n",
        "So, last week we started our journey into Python. What were the things we got to know last week?\n",
        "\n",
        "- Hello World\n",
        "- Calling functions (`print()`, `math.exp()`)\n",
        "- Basic data types in Python (`bool`, `float`, `int`, `str`)\n",
        "- Math operations in Python (`+, -, *, /, //, %`)\n",
        "- Defining functions (`morse()`)\n",
        "\n",
        "**Did you encounter problems / questions?**"
      ]
    },
    {
      "cell_type": "code",
      "metadata": {
        "id": "GL2OuTMEC1hl",
        "colab_type": "code",
        "colab": {}
      },
      "source": [
        "# Test ground for problems\n",
        "\n"
      ],
      "execution_count": 0,
      "outputs": []
    },
    {
      "cell_type": "markdown",
      "metadata": {
        "id": "eAq1ysJlaANb",
        "colab_type": "text"
      },
      "source": [
        "**Homework?** --> Conversion of data types"
      ]
    },
    {
      "cell_type": "markdown",
      "metadata": {
        "id": "9PjZB4JZs-Wt",
        "colab_type": "text"
      },
      "source": [
        "**Task:** As a short test, write the Morse potential function here again.\n",
        "\n",
        "The formula is the following:\n",
        "\n",
        "$$\n",
        "E=D(1-\\mathrm{e}^{-\\beta(r-r_{\\mathrm{eq}})})^2\n",
        "$$\n",
        "\n",
        "The parameters are as follows:\n",
        "\n",
        "- $\\beta = 2.203\\,\\frac{\\mathrm{1}}{\\mathrm{Å}}$\n",
        "- $r_{eq} = 0.917\\,\\mathrm{Å}$\n",
        "- $D = 590.7\\,\\frac{\\mathrm{kJ}}{\\mathrm{mol}}$\n"
      ]
    },
    {
      "cell_type": "code",
      "metadata": {
        "id": "Abd3llhms92C",
        "colab_type": "code",
        "colab": {}
      },
      "source": [
        "import math\n",
        "\n",
        "# Here goes your function:\n",
        "\n",
        "\n",
        "# Now print the value of the potential at r = 2 Angstrom\n",
        "\n",
        "\n"
      ],
      "execution_count": 0,
      "outputs": []
    },
    {
      "cell_type": "markdown",
      "metadata": {
        "id": "E7KR7uxAGGed",
        "colab_type": "text"
      },
      "source": [
        "## Repeating operations --> Introducing **loops**\n",
        "\n",
        "Currently, with every command we tell Python, the program does one thing. Suppose now that we would like to do a number of similar operations after each other, without explicitely coding every step. **How do we do that?**\n",
        "\n",
        "The answer is: we construct a **loop**. A loop is a code construct that runs the inside of the loop as often as we tell it to. Have an example:\n",
        "\n",
        "Suppose you want to calculate the squares of the numbers 0 to 20 and print them to the screen, how do you do that? See for yourself:\n",
        "\n",
        "---\n",
        "\n",
        "**Heads-up: Python starts counting from 0.** That means that indices (later) and the `range()` function will by default start from 0 and stop one before the number you requested (`range(21) --> 0,1,2,...,20`).\n",
        "\n",
        "---"
      ]
    },
    {
      "cell_type": "code",
      "metadata": {
        "id": "JdBgvJhAd8SW",
        "colab_type": "code",
        "colab": {}
      },
      "source": [
        "for i in range(21):\n",
        "  print(i*i)"
      ],
      "execution_count": 0,
      "outputs": []
    },
    {
      "cell_type": "markdown",
      "metadata": {
        "id": "WAyAo7pigF5h",
        "colab_type": "text"
      },
      "source": [
        "We use a construct called a `for` loop. We need three things for a loop:\n",
        "1. we start with the keyword `for`\n",
        "2. a variable that will be changed in each loop (the `i`)\n",
        "3. then the keyword `in` and\n",
        "4. an entity that generates the values of `i` (the `range()` function)\n",
        "5. a colon at the end of the line  \n",
        "\n",
        "You can read this first line as:\n",
        "\n",
        "***For every value i that is between 0 and 21, do the following:***\n",
        "\n",
        "**The line after that has to be indented** (the line has to begin with 2 spaces) to let Python know which parts belong to the loop body. You might remember this concept from the function definition in the last session.\n",
        "\n",
        "Now that you know how that works, try it yourself:\n",
        "\n",
        "**Task**: Print the result of $1/x$ for x between 1 and 10: "
      ]
    },
    {
      "cell_type": "code",
      "metadata": {
        "id": "hyVBBncisgGY",
        "colab_type": "code",
        "colab": {}
      },
      "source": [
        "# Write the `for`-loop here:\n",
        "\n",
        "\n"
      ],
      "execution_count": 0,
      "outputs": []
    },
    {
      "cell_type": "markdown",
      "metadata": {
        "id": "E3JpVUZawy3f",
        "colab_type": "text"
      },
      "source": [
        "Ok, good, your first `for`-loop! You will need these constructs a lot in Python.\n",
        "\n",
        "Here a second, more advanced **task**, build a `for` loop to calculate the Morse potential between 0.3$\\,$Å and 2.0$\\,$Å (including the ends) in steps of 0.1$\\,$Å. In order to do that, calculate the required `r` value from the start value and the loop variable `i`. How many steps will you need? "
      ]
    },
    {
      "cell_type": "code",
      "metadata": {
        "id": "UCj0tJlswyWw",
        "colab_type": "code",
        "colab": {}
      },
      "source": [
        "# Write the `for`-loop here:\n",
        "\n"
      ],
      "execution_count": 0,
      "outputs": []
    },
    {
      "cell_type": "markdown",
      "metadata": {
        "id": "oKj25bEVs31a",
        "colab_type": "text"
      },
      "source": [
        "And now, with one command construct, you can run the code inside the block as much as you would like it to. Nice, isn't it?\n",
        "\n",
        "There are a number of different loop structures, but for now, we will stick to `for` loops, to keep it nice and simple.\n",
        "\n",
        "However, one problem remains: We have no means of storing the data that we calculated. So we cannot plot that data or write it to a file. So, next up, we will introduce containers that allow us to store larger amounts of data. We will start with the most commonly used container, a `list`."
      ]
    },
    {
      "cell_type": "markdown",
      "metadata": {
        "id": "XLJ0k-yJTTCs",
        "colab_type": "text"
      },
      "source": [
        "## Lists\n",
        "\n",
        "Lists are a very handy construct in Python and we will meet them virtually everywhere.\n",
        "\n",
        "A list is a container that can hold any of the data types we introduced earlier and has to be surrounded by brackets `[` and `]`. In Python, lists are **heterogeneous containers** in that a single list can contain multiple different data types. \n",
        "\n",
        "```python\n",
        "# A list of int's\n",
        "list_int = [1, 2, 3, 4] \n",
        "\n",
        "# A list of float's\n",
        "list_flt = [1.0, 2.0, 3.0, 4.0] \n",
        "\n",
        "# A mixed list\n",
        "list_mix = [1.0, \"Hello\", 3, True] \n",
        "```\n",
        "\n",
        "Lists are super handy in Python. With a list come many functions that can be used on lists, such as the `len()` function that tells us the number of items in the list. We will get to know a number of different functionalities during the course.\n",
        "\n",
        "To generate lists quickly, there is syntax called *list comprehension* in Python, that we will use to calculate many values at once. "
      ]
    },
    {
      "cell_type": "markdown",
      "metadata": {
        "id": "SjuZhpFhaSnr",
        "colab_type": "text"
      },
      "source": [
        "### Indexing \n",
        "\n",
        "Another big thing when it comes to lists (or any container) in Python is indexing. \n",
        "\n",
        "Indexing means, simply put, to get a certain value or a specific subgroup of values from a container. We can index all kinds of containers, but for now, we will stick to `list`s.\n",
        "\n",
        "Assume you have the following list: \n",
        "\n",
        "```python\n",
        "l = [1, 2, 3, 4, 5, 6]\n",
        "```\n",
        "How can you access the third entry, the number `3`? With lists, indexes are always of the `int` datatype. The entries in a list are indexed starting from 0 and going up incrementally:\n",
        "\n",
        "```python\n",
        "# Index:  0  1  2  3  4  5\n",
        "l =      [1, 2, 3, 4, 5, 6]\n",
        "```\n",
        "\n",
        "To get a value from a list, we ask Python by using brackets `[]` behind the variable name, like so (in order to get the number `3`)\n"
      ]
    },
    {
      "cell_type": "code",
      "metadata": {
        "id": "gJsDjiMtbZYd",
        "colab_type": "code",
        "colab": {}
      },
      "source": [
        "# Create the list\n",
        "l = [1, 2, 3, 4, 5, 6]\n",
        "\n",
        "# Index the number `3` from the list. The index is `2`\n",
        "number3 = l[2]\n",
        "\n",
        "print(number3)\n",
        "\n",
        "# Feel free to try on your own!"
      ],
      "execution_count": 0,
      "outputs": []
    },
    {
      "cell_type": "markdown",
      "metadata": {
        "id": "FIPtOUyqczZs",
        "colab_type": "text"
      },
      "source": [
        "#### More indexing & slicing\n",
        "\n",
        "Besides indexing from the left you may also index from the right. Therefore you want to use negative integers:\n",
        "\n",
        "```python\n",
        "# Index left: | 0 | 1 | 2 | 3 | 4 | 5 |\n",
        "l =           [ 1,  2,  3,  4,  5,  6 ]\n",
        "# Index right:|-6 |-5 |-4 |-3 |-2 |-1 |\n",
        "```\n",
        "\n",
        "Furthermore, you can also get slices (sublists) from a list using a simple syntax. To get the first three items in the list, you would write:\n",
        "\n",
        "```python\n",
        "# Slice from left:       :1 | :2 | :3 | :4 | :5 | :\n",
        "l =                  [ 1,   2,   3,   4,   5,   6 ]\n",
        "# Slice from right:  : | -5:| -4:| -3:| -2:| -1: \n",
        "\n",
        "# To print the first three entries:\n",
        "print(l[:3])\n",
        "```\n",
        "\n",
        "This might be a lot to take in, so I encourage you **to try it out (you will get used to it very quickly!)**:"
      ]
    },
    {
      "cell_type": "code",
      "metadata": {
        "id": "hl5KJAA3hoQ6",
        "colab_type": "code",
        "outputId": "cbd00d4a-7d6b-4a4a-ba22-cce339972a10",
        "colab": {
          "base_uri": "https://localhost:8080/",
          "height": 85
        }
      },
      "source": [
        "l = [0, 1, 2, 3, 4, 5, 6, 7, 8, 9, 10]\n",
        "\n",
        "# Feel free to try everything you like! \n",
        "print(l[5])\n",
        "print(l[:5])\n",
        "print(l[:])\n",
        "print(l[-1:])\n",
        "\n"
      ],
      "execution_count": 0,
      "outputs": [
        {
          "output_type": "stream",
          "text": [
            "5\n",
            "[0, 1, 2, 3, 4]\n",
            "[0, 1, 2, 3, 4, 5, 6, 7, 8, 9, 10]\n",
            "[10]\n"
          ],
          "name": "stdout"
        }
      ]
    },
    {
      "cell_type": "markdown",
      "metadata": {
        "id": "qO5ffal9Xvot",
        "colab_type": "text"
      },
      "source": [
        "### Operations on lists\n",
        "\n",
        "With standard Python lists, we can only operate on a single item of that list at the same time. But what we can do is that we generate lists from other lists, in a single statement. This process is called **list comprehension** and is, basically, a squished-together `for`-loop.\n",
        "\n",
        "So, let's calculate a list of values of `r` that we would know the potential at. To do this, we want to define a spacing `dr`, a start value `r_0` and a total number of values. \n",
        "\n",
        "The syntax required for this task is: \n",
        "\n",
        "```python\n",
        "list_of_values = [function(x) for x in list_of_x]\n",
        "```\n",
        "\n",
        "The `range()` function that you encountered above (in simple terms) just returns a list of integers in the boundaries that you specify.\n",
        "\n",
        "And now you go:"
      ]
    },
    {
      "cell_type": "code",
      "metadata": {
        "id": "Dyl9kvizZ2LK",
        "colab_type": "code",
        "outputId": "3ad6f78c-00eb-4a6e-defd-09ee1e764a92",
        "colab": {
          "base_uri": "https://localhost:8080/",
          "height": 71
        }
      },
      "source": [
        "# A simple example: \n",
        "# range(5) is equivalent to a list of 5 ascending integers, starting at 0.\n",
        "print([x * x for x in range(5)])\n",
        "\n",
        "# Now you go! \n",
        "# Parameters: \n",
        "#   You want 1000 values or `r`, starting from 0.4 Angström \n",
        "#   with a spacing of 0.002 Angström\n",
        "\n",
        "\n"
      ],
      "execution_count": 0,
      "outputs": [
        {
          "output_type": "stream",
          "text": [
            "[0, 1, 4, 9, 16]\n",
            "[0.4, 0.402, 0.404, 0.406, 0.40800000000000003, 0.41000000000000003, 0.41200000000000003, 0.41400000000000003, 0.41600000000000004, 0.41800000000000004, 0.42000000000000004, 0.42200000000000004, 0.42400000000000004, 0.42600000000000005, 0.42800000000000005, 0.43000000000000005, 0.43200000000000005, 0.43400000000000005, 0.43600000000000005, 0.438, 0.44, 0.442, 0.444, 0.446, 0.448, 0.45, 0.452, 0.454, 0.456, 0.458, 0.46, 0.462, 0.464, 0.466, 0.468, 0.47000000000000003, 0.47200000000000003, 0.47400000000000003, 0.47600000000000003, 0.47800000000000004, 0.48000000000000004, 0.48200000000000004, 0.48400000000000004, 0.48600000000000004, 0.488, 0.49, 0.492, 0.494, 0.496, 0.498, 0.5, 0.502, 0.504, 0.506, 0.508, 0.51, 0.512, 0.514, 0.516, 0.518, 0.52, 0.522, 0.524, 0.526, 0.528, 0.53, 0.532, 0.534, 0.536, 0.538, 0.54, 0.542, 0.544, 0.546, 0.548, 0.55, 0.552, 0.554, 0.556, 0.558, 0.56, 0.562, 0.5640000000000001, 0.5660000000000001, 0.5680000000000001, 0.5700000000000001, 0.5720000000000001, 0.5740000000000001, 0.5760000000000001, 0.5780000000000001, 0.5800000000000001, 0.5820000000000001, 0.5840000000000001, 0.5860000000000001, 0.5880000000000001, 0.5900000000000001, 0.5920000000000001, 0.5940000000000001, 0.5960000000000001, 0.5980000000000001, 0.6000000000000001, 0.6020000000000001, 0.6040000000000001, 0.6060000000000001, 0.6080000000000001, 0.61, 0.612, 0.614, 0.616, 0.618, 0.62, 0.622, 0.624, 0.626, 0.628, 0.63, 0.632, 0.634, 0.636, 0.638, 0.64, 0.642, 0.644, 0.646, 0.648, 0.65, 0.652, 0.654, 0.656, 0.658, 0.66, 0.662, 0.664, 0.666, 0.668, 0.67, 0.672, 0.674, 0.676, 0.678, 0.68, 0.682, 0.684, 0.686, 0.6880000000000001, 0.69, 0.692, 0.694, 0.696, 0.698, 0.7, 0.702, 0.704, 0.706, 0.708, 0.71, 0.712, 0.714, 0.716, 0.718, 0.72, 0.722, 0.724, 0.726, 0.728, 0.73, 0.732, 0.734, 0.736, 0.738, 0.74, 0.742, 0.744, 0.746, 0.748, 0.75, 0.752, 0.754, 0.756, 0.758, 0.76, 0.762, 0.764, 0.766, 0.768, 0.77, 0.772, 0.774, 0.776, 0.778, 0.78, 0.782, 0.784, 0.786, 0.788, 0.79, 0.792, 0.794, 0.796, 0.798, 0.8, 0.802, 0.804, 0.806, 0.808, 0.81, 0.812, 0.8140000000000001, 0.8160000000000001, 0.8180000000000001, 0.8200000000000001, 0.8220000000000001, 0.8240000000000001, 0.8260000000000001, 0.8280000000000001, 0.8300000000000001, 0.8320000000000001, 0.8340000000000001, 0.8360000000000001, 0.8380000000000001, 0.8400000000000001, 0.8420000000000001, 0.8440000000000001, 0.8460000000000001, 0.8480000000000001, 0.8500000000000001, 0.8520000000000001, 0.8540000000000001, 0.8560000000000001, 0.8580000000000001, 0.8600000000000001, 0.8620000000000001, 0.8640000000000001, 0.8660000000000001, 0.8680000000000001, 0.8700000000000001, 0.8720000000000001, 0.8740000000000001, 0.8760000000000001, 0.8780000000000001, 0.88, 0.882, 0.884, 0.886, 0.888, 0.89, 0.892, 0.894, 0.896, 0.898, 0.9, 0.902, 0.904, 0.906, 0.908, 0.91, 0.912, 0.914, 0.916, 0.918, 0.92, 0.922, 0.924, 0.926, 0.928, 0.93, 0.932, 0.934, 0.936, 0.9380000000000001, 0.9400000000000001, 0.9420000000000001, 0.9440000000000001, 0.9460000000000001, 0.9480000000000001, 0.9500000000000001, 0.9520000000000001, 0.9540000000000001, 0.9560000000000001, 0.9580000000000001, 0.9600000000000001, 0.9620000000000001, 0.9640000000000001, 0.9660000000000001, 0.9680000000000001, 0.9700000000000001, 0.9720000000000001, 0.9740000000000001, 0.9760000000000001, 0.978, 0.98, 0.982, 0.984, 0.986, 0.988, 0.99, 0.992, 0.994, 0.996, 0.998, 1.0, 1.002, 1.004, 1.006, 1.008, 1.01, 1.012, 1.014, 1.016, 1.018, 1.02, 1.022, 1.024, 1.026, 1.028, 1.03, 1.032, 1.034, 1.036, 1.038, 1.04, 1.042, 1.044, 1.046, 1.048, 1.05, 1.052, 1.054, 1.056, 1.058, 1.06, 1.062, 1.064, 1.066, 1.068, 1.07, 1.072, 1.074, 1.076, 1.078, 1.08, 1.082, 1.084, 1.086, 1.088, 1.09, 1.092, 1.094, 1.096, 1.098, 1.1, 1.102, 1.104, 1.1059999999999999, 1.108, 1.1099999999999999, 1.112, 1.1139999999999999, 1.116, 1.1179999999999999, 1.12, 1.1219999999999999, 1.124, 1.126, 1.1280000000000001, 1.13, 1.1320000000000001, 1.134, 1.1360000000000001, 1.138, 1.1400000000000001, 1.142, 1.1440000000000001, 1.146, 1.1480000000000001, 1.15, 1.1520000000000001, 1.154, 1.1560000000000001, 1.158, 1.1600000000000001, 1.162, 1.1640000000000001, 1.166, 1.1680000000000001, 1.17, 1.1720000000000002, 1.174, 1.1760000000000002, 1.178, 1.1800000000000002, 1.182, 1.1840000000000002, 1.186, 1.1880000000000002, 1.19, 1.1920000000000002, 1.194, 1.1960000000000002, 1.198, 1.2000000000000002, 1.202, 1.2040000000000002, 1.206, 1.2080000000000002, 1.21, 1.2120000000000002, 1.214, 1.2160000000000002, 1.218, 1.2200000000000002, 1.222, 1.2240000000000002, 1.226, 1.2280000000000002, 1.23, 1.2320000000000002, 1.234, 1.236, 1.238, 1.24, 1.242, 1.244, 1.246, 1.248, 1.25, 1.252, 1.254, 1.256, 1.258, 1.26, 1.262, 1.264, 1.266, 1.268, 1.27, 1.272, 1.274, 1.276, 1.278, 1.28, 1.282, 1.284, 1.286, 1.288, 1.29, 1.292, 1.294, 1.296, 1.298, 1.3, 1.302, 1.304, 1.306, 1.308, 1.31, 1.312, 1.314, 1.316, 1.318, 1.32, 1.322, 1.324, 1.326, 1.328, 1.33, 1.332, 1.334, 1.336, 1.338, 1.34, 1.342, 1.344, 1.346, 1.348, 1.35, 1.352, 1.354, 1.356, 1.358, 1.3599999999999999, 1.362, 1.3639999999999999, 1.366, 1.3679999999999999, 1.37, 1.3719999999999999, 1.374, 1.376, 1.3780000000000001, 1.38, 1.3820000000000001, 1.384, 1.3860000000000001, 1.388, 1.3900000000000001, 1.392, 1.3940000000000001, 1.396, 1.3980000000000001, 1.4, 1.4020000000000001, 1.404, 1.4060000000000001, 1.408, 1.4100000000000001, 1.412, 1.4140000000000001, 1.416, 1.4180000000000001, 1.42, 1.4220000000000002, 1.424, 1.4260000000000002, 1.428, 1.4300000000000002, 1.432, 1.4340000000000002, 1.436, 1.4380000000000002, 1.44, 1.4420000000000002, 1.444, 1.4460000000000002, 1.448, 1.4500000000000002, 1.452, 1.4540000000000002, 1.456, 1.4580000000000002, 1.46, 1.4620000000000002, 1.464, 1.4660000000000002, 1.468, 1.4700000000000002, 1.472, 1.4740000000000002, 1.476, 1.4780000000000002, 1.48, 1.4820000000000002, 1.484, 1.4860000000000002, 1.488, 1.4900000000000002, 1.492, 1.4940000000000002, 1.496, 1.4980000000000002, 1.5, 1.5020000000000002, 1.504, 1.5060000000000002, 1.508, 1.5100000000000002, 1.512, 1.5140000000000002, 1.516, 1.5180000000000002, 1.52, 1.5220000000000002, 1.524, 1.5260000000000002, 1.528, 1.5300000000000002, 1.532, 1.5340000000000003, 1.536, 1.5380000000000003, 1.54, 1.5420000000000003, 1.544, 1.5460000000000003, 1.548, 1.5500000000000003, 1.552, 1.5539999999999998, 1.556, 1.5579999999999998, 1.56, 1.5619999999999998, 1.564, 1.5659999999999998, 1.568, 1.5699999999999998, 1.572, 1.5739999999999998, 1.576, 1.5779999999999998, 1.58, 1.5819999999999999, 1.584, 1.5859999999999999, 1.588, 1.5899999999999999, 1.592, 1.5939999999999999, 1.596, 1.5979999999999999, 1.6, 1.6019999999999999, 1.604, 1.6059999999999999, 1.608, 1.6099999999999999, 1.612, 1.6139999999999999, 1.616, 1.6179999999999999, 1.62, 1.6219999999999999, 1.624, 1.626, 1.6280000000000001, 1.63, 1.6320000000000001, 1.634, 1.6360000000000001, 1.638, 1.6400000000000001, 1.642, 1.6440000000000001, 1.646, 1.6480000000000001, 1.65, 1.6520000000000001, 1.654, 1.6560000000000001, 1.658, 1.6600000000000001, 1.662, 1.6640000000000001, 1.666, 1.6680000000000001, 1.67, 1.6720000000000002, 1.674, 1.6760000000000002, 1.678, 1.6800000000000002, 1.682, 1.6840000000000002, 1.686, 1.6880000000000002, 1.69, 1.6920000000000002, 1.694, 1.6960000000000002, 1.698, 1.7000000000000002, 1.702, 1.7040000000000002, 1.706, 1.7080000000000002, 1.71, 1.7120000000000002, 1.714, 1.7160000000000002, 1.718, 1.7200000000000002, 1.722, 1.7240000000000002, 1.726, 1.7280000000000002, 1.73, 1.7320000000000002, 1.734, 1.7360000000000002, 1.738, 1.7400000000000002, 1.742, 1.7440000000000002, 1.746, 1.7480000000000002, 1.75, 1.7520000000000002, 1.754, 1.7560000000000002, 1.758, 1.7600000000000002, 1.762, 1.7640000000000002, 1.766, 1.7680000000000002, 1.77, 1.7720000000000002, 1.774, 1.7760000000000002, 1.778, 1.7800000000000002, 1.782, 1.7840000000000003, 1.786, 1.7880000000000003, 1.79, 1.7920000000000003, 1.794, 1.7960000000000003, 1.798, 1.8000000000000003, 1.802, 1.8040000000000003, 1.806, 1.8079999999999998, 1.81, 1.8119999999999998, 1.814, 1.8159999999999998, 1.818, 1.8199999999999998, 1.822, 1.8239999999999998, 1.826, 1.8279999999999998, 1.83, 1.8319999999999999, 1.834, 1.8359999999999999, 1.838, 1.8399999999999999, 1.842, 1.8439999999999999, 1.846, 1.8479999999999999, 1.85, 1.8519999999999999, 1.854, 1.8559999999999999, 1.858, 1.8599999999999999, 1.862, 1.8639999999999999, 1.866, 1.8679999999999999, 1.87, 1.8719999999999999, 1.874, 1.876, 1.8780000000000001, 1.88, 1.8820000000000001, 1.884, 1.8860000000000001, 1.888, 1.8900000000000001, 1.892, 1.8940000000000001, 1.896, 1.8980000000000001, 1.9, 1.9020000000000001, 1.904, 1.9060000000000001, 1.908, 1.9100000000000001, 1.912, 1.9140000000000001, 1.916, 1.9180000000000001, 1.92, 1.9220000000000002, 1.924, 1.9260000000000002, 1.928, 1.9300000000000002, 1.932, 1.9340000000000002, 1.936, 1.9380000000000002, 1.94, 1.9420000000000002, 1.944, 1.9460000000000002, 1.948, 1.9500000000000002, 1.952, 1.9540000000000002, 1.956, 1.9580000000000002, 1.96, 1.9620000000000002, 1.964, 1.9660000000000002, 1.968, 1.9700000000000002, 1.972, 1.9740000000000002, 1.976, 1.9780000000000002, 1.98, 1.9820000000000002, 1.984, 1.9860000000000002, 1.988, 1.9900000000000002, 1.992, 1.9940000000000002, 1.996, 1.9980000000000002, 2.0, 2.0020000000000002, 2.004, 2.0060000000000002, 2.008, 2.0100000000000002, 2.012, 2.0140000000000002, 2.016, 2.0180000000000002, 2.02, 2.0220000000000002, 2.024, 2.0260000000000002, 2.028, 2.0300000000000002, 2.032, 2.0340000000000003, 2.036, 2.0380000000000003, 2.04, 2.0420000000000003, 2.044, 2.0460000000000003, 2.048, 2.0500000000000003, 2.052, 2.0540000000000003, 2.056, 2.0580000000000003, 2.06, 2.0620000000000003, 2.064, 2.066, 2.068, 2.07, 2.072, 2.074, 2.076, 2.078, 2.08, 2.082, 2.084, 2.086, 2.088, 2.09, 2.092, 2.094, 2.096, 2.098, 2.1, 2.102, 2.104, 2.106, 2.108, 2.11, 2.112, 2.114, 2.116, 2.118, 2.12, 2.122, 2.124, 2.126, 2.128, 2.13, 2.132, 2.134, 2.136, 2.138, 2.14, 2.142, 2.144, 2.146, 2.148, 2.15, 2.152, 2.154, 2.156, 2.158, 2.16, 2.162, 2.164, 2.166, 2.168, 2.17, 2.172, 2.174, 2.176, 2.178, 2.18, 2.182, 2.184, 2.186, 2.188, 2.19, 2.192, 2.194, 2.196, 2.198, 2.2, 2.202, 2.204, 2.206, 2.208, 2.21, 2.212, 2.214, 2.216, 2.218, 2.22, 2.222, 2.224, 2.226, 2.228, 2.23, 2.232, 2.234, 2.236, 2.238, 2.24, 2.242, 2.244, 2.246, 2.248, 2.25, 2.2520000000000002, 2.254, 2.2560000000000002, 2.258, 2.2600000000000002, 2.262, 2.2640000000000002, 2.266, 2.2680000000000002, 2.27, 2.2720000000000002, 2.274, 2.2760000000000002, 2.278, 2.2800000000000002, 2.282, 2.2840000000000003, 2.286, 2.2880000000000003, 2.29, 2.2920000000000003, 2.294, 2.2960000000000003, 2.298, 2.3000000000000003, 2.302, 2.3040000000000003, 2.306, 2.3080000000000003, 2.31, 2.3120000000000003, 2.314, 2.3160000000000003, 2.318, 2.32, 2.322, 2.324, 2.326, 2.328, 2.33, 2.332, 2.334, 2.336, 2.338, 2.34, 2.342, 2.344, 2.346, 2.348, 2.35, 2.352, 2.354, 2.356, 2.358, 2.36, 2.362, 2.364, 2.366, 2.368, 2.37, 2.372, 2.374, 2.376, 2.378, 2.38, 2.382, 2.384, 2.386, 2.388, 2.39, 2.392, 2.394, 2.396, 2.398]\n"
          ],
          "name": "stdout"
        }
      ]
    },
    {
      "cell_type": "markdown",
      "metadata": {
        "id": "UUqkj3JUa74v",
        "colab_type": "text"
      },
      "source": [
        "Nice, now you have a list of `r` values!\n",
        "\n",
        "With the same syntax as above, we can calculate the potential at every value of `r`. Here however, we want to use the values of the list as the input for the Morse potential. In Python, this is pretty easy, we can implicitely take each value from a list in a list comprehension:"
      ]
    },
    {
      "cell_type": "code",
      "metadata": {
        "id": "4d1IUImOdJ8J",
        "colab_type": "code",
        "colab": {}
      },
      "source": [
        "# Write your answer here!"
      ],
      "execution_count": 0,
      "outputs": []
    },
    {
      "cell_type": "markdown",
      "metadata": {
        "id": "27tNsfAJdx1v",
        "colab_type": "text"
      },
      "source": [
        "Great! We're already on the home stretch with the Morse potential! Now, let's make a small plot of that data. Therefore, we need the library `matplotlib.pyplot` which should already be installed.\n",
        "\n",
        "Simply import the library before using it with `import matplotlib.pyplot as plt`. Then, as the most simple command, use the function `plt.plot()` and give as input your list for the x axis first, then the list for the y axis, separated by commata:"
      ]
    },
    {
      "cell_type": "code",
      "metadata": {
        "id": "EMaDSytVf1xK",
        "colab_type": "code",
        "outputId": "08592772-2e3d-43e6-d41d-b0502dd81881",
        "colab": {
          "base_uri": "https://localhost:8080/",
          "height": 282
        }
      },
      "source": [
        "# Simple example: \n",
        "import matplotlib.pyplot as plt\n",
        "\n",
        "xlist = [0, 1, 2, 3, 4] \n",
        "ylist = [x * x for x in xlist]\n",
        "\n",
        "# The following command is commented so that it does not interfere with you!\n",
        "# plt.plot(xlist, ylist)\n",
        "\n",
        "# And now you go!\n",
        "\n"
      ],
      "execution_count": 0,
      "outputs": [
        {
          "output_type": "execute_result",
          "data": {
            "text/plain": [
              "[<matplotlib.lines.Line2D at 0x7fb0da043ba8>]"
            ]
          },
          "metadata": {
            "tags": []
          },
          "execution_count": 21
        },
        {
          "output_type": "display_data",
          "data": {
            "image/png": "[encoded data removed]",
            "text/plain": [
              "<Figure size 432x288 with 1 Axes>"
            ]
          },
          "metadata": {
            "tags": [],
            "needs_background": "light"
          }
        }
      ]
    },
    {
      "cell_type": "markdown",
      "metadata": {
        "id": "xm2P6nNygU3P",
        "colab_type": "text"
      },
      "source": [
        "There you have it! Nice! Congratulations, your first scientific calculation and data visulisation in Python! 🎉\n",
        "\n",
        "Now, we will cover a lot more ground on lists and how to calculate some more advanced things."
      ]
    },
    {
      "cell_type": "markdown",
      "metadata": {
        "id": "zc5xoBSWthXU",
        "colab_type": "text"
      },
      "source": [
        "## Working with input & some vector math\n",
        "\n",
        "In this section, we will depart from the Morse potential function (for now) and go into the realms of high school math & learn how to deal with input from a user or, even, from a file.\n",
        "\n",
        "\n",
        "\n",
        "\n",
        "\n"
      ]
    },
    {
      "cell_type": "markdown",
      "metadata": {
        "id": "9AaEkR-RoZVl",
        "colab_type": "text"
      },
      "source": [
        "### Multiplication of vectors & matrices\n",
        "\n",
        "So, let's start by going into the mathematical formulation of vector & matrix multiplications. We will find that the math concepts are easily adapted to code.\n",
        "\n",
        "So, let's first define a vector and a matrix. We will think of a vector $v$ as a 1-dimensional array of numbers (`float`s or `int`s), in math:\n",
        "\n",
        "$$\n",
        "\\mathbf{v} = \\pmatrix{v_1 \\\\ v_2 \\\\ ... \\\\ v_n}\n",
        "$$\n",
        "\n",
        "In our code world, vectors are typically represented as simple lists. Matrices are the logical next step, where each element, such as $v_1$, is by itself a vector. You go from a 1-dimensional construct to a 2-dimensional data structure, a matrix $\\mathbf{M}$:\n",
        "\n",
        "$$\n",
        "\\mathbf{A} = \\pmatrix{a_{11} a_{12}  \\cdots  a_{1m} \\\\\n",
        "             a_{21} a_{22}  \\cdots  a_{2m} \\\\ \n",
        "             \\vdots \\\\ \n",
        "             a_{n1} a_{n2}  \\cdots  a_{nm}\n",
        "             }\n",
        "$$\n",
        "\n"
      ]
    },
    {
      "cell_type": "markdown",
      "metadata": {
        "id": "faax20snofs-",
        "colab_type": "text"
      },
      "source": [
        "#### **Vectors & matrices with scalars**\n",
        "\n",
        "To calculate the product of a vector or matrix with a scalar (a number) $s$, we multiply each element in the structure with the scalar value:\n",
        "\n",
        "$$\n",
        "s \\cdot \\mathbf{v}= \\pmatrix{s \\cdot v_1 \\\\ s \\cdot v_2 \\\\ ... \\\\ s \\cdot v_n}\n",
        "$$\n",
        "\n",
        "This rule holds true for matrices and is therefore not depicted.\n",
        "\n"
      ]
    },
    {
      "cell_type": "markdown",
      "metadata": {
        "id": "efi4BU5Iohux",
        "colab_type": "text"
      },
      "source": [
        "#### **Vectors with vectors** \n",
        "\n",
        "The product of a two vectors, the so called scalar product, with vectors $\\mathbf{v}$ and $\\mathbf{u}$, is calculated by multiplying the elements elementwise and adding the results of each multiplication. The dimensions of the vectors\n",
        " have to match: $n_{\\mathbf{v}} = n_{\\mathbf{u}} = n$. We write this operation as:\n",
        "\n",
        "$$\n",
        "\\mathbf{w} = \\mathbf{v} \\cdot \\mathbf{u} = \\sum\\limits_{m=1}^n = v_m \\cdot u_m\n",
        "$$\n",
        "\n"
      ]
    },
    {
      "cell_type": "markdown",
      "metadata": {
        "id": "BOdms6MEojy7",
        "colab_type": "text"
      },
      "source": [
        "#### **Matrices with matrices**\n",
        "\n",
        "Assume we have two matrices $\\mathbf{A}$ and $\\mathbf{B}$ with elements $a_{ij}$ and $b_{jk}$ (the indices with the same letter *have* to match!), we can multiply them to get a matrix $\\mathbf{C}$ with elements $c_{ik}$ like so:\n",
        "\n",
        "$$\n",
        "c_{ik} = \\sum\\limits_j a_{ij} \\cdot b_{jk} \n",
        "$$\n",
        "\n",
        "This, of course, has to be conducted *for every entry* of $i$ and $k$.\n",
        "\n"
      ]
    },
    {
      "cell_type": "markdown",
      "metadata": {
        "id": "D3B4jbR8omn8",
        "colab_type": "text"
      },
      "source": [
        "#### **Matrices with vectors**\n",
        "\n",
        "If you remember your math classes, the product of a matrix and a vector gives us a vector back. **Why?**\n",
        "\n",
        "By calculating the product between a matrix $\\mathbf{A}$ (consisting of elements $a_{ij}$) and a vector $\\mathbf{v}$ with elements $v_j$, we want to get as a result the vector with elements $p_i$\n",
        "\n",
        "$$\n",
        "p_i = \\sum\\limits_j a_{ij} \\cdot v_j\n",
        "$$"
      ]
    },
    {
      "cell_type": "markdown",
      "metadata": {
        "id": "MXttKOvW7fzF",
        "colab_type": "text"
      },
      "source": [
        "### Getting from idea to code\n",
        "\n",
        "So now that we know how vector and matrix multiplication works, let's get to transfer that into code. Let's start with the easiest case, the multiplication with a scalar:\n",
        "\n",
        "**What do you think, how do we get this into code?**"
      ]
    },
    {
      "cell_type": "markdown",
      "metadata": {
        "id": "N_hU5hJA8aXk",
        "colab_type": "text"
      },
      "source": [
        "**>> Here goes your brainstorming**"
      ]
    },
    {
      "cell_type": "markdown",
      "metadata": {
        "id": "HaANLKg58jKg",
        "colab_type": "text"
      },
      "source": [
        "#### Vector & scalars\n",
        "\n",
        "So, and now let's get to code that. Please write the vector-scalar multiplication into **function form** that takes two inputs, a vector and a scalar.\n",
        "Hint: Use **list comprehension** for that."
      ]
    },
    {
      "cell_type": "code",
      "metadata": {
        "id": "bqkhYpmdtfA3",
        "colab_type": "code",
        "outputId": "7bac56b4-c4a6-44e4-e61b-3847ed19f05a",
        "colab": {
          "base_uri": "https://localhost:8080/",
          "height": 34
        }
      },
      "source": [
        "#Those are the given vectors\n",
        "vector_1 = [1, 6, 3]\n",
        "scalar = 4\n",
        "\n",
        "# Here goes your function\n",
        "\n",
        "\n",
        "# Now call the function and print the result\n"
      ],
      "execution_count": 0,
      "outputs": [
        {
          "output_type": "execute_result",
          "data": {
            "text/plain": [
              "[4, 24, 4]"
            ]
          },
          "metadata": {
            "tags": []
          },
          "execution_count": 1
        }
      ]
    },
    {
      "cell_type": "markdown",
      "metadata": {
        "id": "cYX8trgRAqDS",
        "colab_type": "text"
      },
      "source": [
        "Nice one! Now let's get going with the other functions.\n",
        "\n",
        "#### Matrices and scalars\n",
        "\n",
        "So, in the Python world, what is a matrix? Basically, a matrix can be represented as a list of lists. That means that instead of single integers or floats, the contents of the list is itself, a list. See here: "
      ]
    },
    {
      "cell_type": "code",
      "metadata": {
        "id": "RIh7XUR1B4Yc",
        "colab_type": "code",
        "outputId": "cf1d2380-e076-466c-9b19-7c409bc8b949",
        "colab": {
          "base_uri": "https://localhost:8080/",
          "height": 51
        }
      },
      "source": [
        "# Let's define a vector for comparison:\n",
        "vector_2 = [2, 4, 8]\n",
        "print(vector_2)\n",
        "\n",
        "# And now, a matrix:\n",
        "matrix_1 = [[2, 4, 6], \n",
        "            [1, 9, 2],\n",
        "            [-1, 3, 6]]\n",
        "print(matrix_1)"
      ],
      "execution_count": 0,
      "outputs": [
        {
          "output_type": "stream",
          "text": [
            "[2, 4, 8]\n",
            "[[2, 4, 6], [1, 9, 2], [-1, 3, 6]]\n"
          ],
          "name": "stdout"
        }
      ]
    },
    {
      "cell_type": "markdown",
      "metadata": {
        "id": "rtFQAAYTCp5A",
        "colab_type": "text"
      },
      "source": [
        "So now that we defined matrices, we can actually work with them. Let's build a function that multiplies a matrix with a scalar.\n",
        "\n",
        "---\n",
        "\n",
        "**Heads up** You see that we already defined a function that multiplies a vector with a scalar. How is a matrix different form a vector? Can you use the previously defined function for that? Try it!\n",
        "\n",
        "---\n",
        "\n",
        "Now you go!"
      ]
    },
    {
      "cell_type": "code",
      "metadata": {
        "id": "qQbZigtwELtk",
        "colab_type": "code",
        "colab": {}
      },
      "source": [
        "matrix_2 = [[2, 4, -6], \n",
        "            [1, -9, 2],\n",
        "            [-1, 3, 6]]\n",
        "\n",
        "scalar_2 = 0.36\n",
        "\n",
        "# Here goes your function:\n",
        "\n",
        "\n",
        "# Now call the function with the matrix and the scalar\n"
      ],
      "execution_count": 0,
      "outputs": []
    },
    {
      "cell_type": "markdown",
      "metadata": {
        "id": "S7VkPH3ZFdqy",
        "colab_type": "text"
      },
      "source": [
        "Good! And a beautiful example for code reuse! \n",
        "\n",
        "**What do you think are the advantages to reuse the code that you already have?**"
      ]
    },
    {
      "cell_type": "markdown",
      "metadata": {
        "id": "0LtWBVXXFzj6",
        "colab_type": "text"
      },
      "source": [
        "**>> Here go your thoughts**"
      ]
    },
    {
      "cell_type": "markdown",
      "metadata": {
        "id": "efwCuJNoF3hE",
        "colab_type": "text"
      },
      "source": [
        "#### **Exploration**: If-else statements\n",
        "\n",
        "Now we will multiply vectors with each other. The math behind this operation is straight forward, isn't it?\n",
        "\n",
        "Nonetheless, we will find a serious problem: What happens when two vector do not have the same length? And how can we check that?\n",
        "\n",
        "To answer this question, we need to think of a way to check for the condition of the input of a function, a so called **conditional statement**. In Python, these statements are implemented as constructs called **if-else statements**. Take the following example to get to know the syntax:\n",
        "\n"
      ]
    },
    {
      "cell_type": "code",
      "metadata": {
        "id": "KbSPZ2_PIwAu",
        "colab_type": "code",
        "colab": {}
      },
      "source": [
        "# Test if one number is smaller or greater than another:\n",
        "nr1 = 1\n",
        "nr2 = -19\n",
        "\n",
        "if nr1 <= nr2:\n",
        "  # If the `if` statement returns `True`\n",
        "  print(\"Nr1 is smaller than or equal to Nr2\")\n",
        "else:\n",
        "  # If the `if` statement returns `False`\n",
        "  print(\"Nr1 is greater than Nr2\")\n",
        "\n",
        "# Feel free to try with these constructs before continuing"
      ],
      "execution_count": 0,
      "outputs": []
    },
    {
      "cell_type": "markdown",
      "metadata": {
        "id": "9t53jwYTKTww",
        "colab_type": "text"
      },
      "source": [
        "Now you have the possibility to check between two values, but what about more possibilities? There, you can use a `elif` statement (short for `else if`) like so:"
      ]
    },
    {
      "cell_type": "code",
      "metadata": {
        "id": "xl8ZKcxYXw4L",
        "colab_type": "code",
        "colab": {}
      },
      "source": [
        "# Test if one number is smaller or greater than another:\n",
        "nr1 = 1\n",
        "nr2 = -19\n",
        "\n",
        "if nr1 < nr2:\n",
        "  # If the `if` statement returns `True`\n",
        "  print(\"Nr1 is smaller than Nr2\")\n",
        "\n",
        "elif nr1 < nr2:\n",
        "  # If the `if` statement returns `True`\n",
        "  print(\"Nr1 is equal to Nr2\")\n",
        "\n",
        "else:\n",
        "  # If the `if` statement returns `False`\n",
        "  # The `else` part is always the last one in an if...elif...else sequence.\n",
        "  print(\"Nr1 is greater than Nr2\")\n",
        "\n",
        "# Feel free to try with these constructs before continuing!"
      ],
      "execution_count": 0,
      "outputs": []
    },
    {
      "cell_type": "markdown",
      "metadata": {
        "id": "VmrJKOXdaZSH",
        "colab_type": "text"
      },
      "source": [
        "#### Vectors with vectors\n",
        "\n",
        "So now that we can check conditions using if-else statements, let's put that knowledge to the test.\n",
        "\n",
        "**Task:** Build a function that takes two vectors as input and **internally checks whether both vectors have the same length** (use the `len()` function). If the vectors are of the same length, **compute the scalar product** (there is a `sum()` function that can be used the compute the sum of a list). If not, raise an error using the statement `raise Exception(\"Not the same length.\")`. We will discuss the details in the course.\n"
      ]
    },
    {
      "cell_type": "code",
      "metadata": {
        "id": "uZ9-zRyPcIDQ",
        "colab_type": "code",
        "colab": {}
      },
      "source": [
        "# Your input\n",
        "vec1 = [1, 2, 1]\n",
        "vec2 = [1, 6, 3]\n",
        "\n",
        "# Here goes the function:\n",
        "\n",
        "\n",
        "\n",
        "\n",
        "# Call the function"
      ],
      "execution_count": 0,
      "outputs": []
    },
    {
      "cell_type": "markdown",
      "metadata": {
        "id": "ZFlp2zj1dOgy",
        "colab_type": "text"
      },
      "source": [
        "#### Matrices with matrices\n",
        "\n",
        "So, now for the topping! Lets multiply matrices with matrices together. This one might get a bit more complex. But hold on, I know you can do it!\n",
        "\n",
        "So, what do we need?\n",
        "\n",
        "1. We need to check the inner and outer indices (the inner of the first and the outer index of the second need to match). For now we assume that the inner lists have the same length and are not malformed.\n",
        "2. We need to put together a new matrix from the indices\n",
        "3. We need to calculate each matrix element on it's own\n",
        "\n",
        "So let's get started. We can build the individual components first (outside of a function) and then later tie the ends together."
      ]
    },
    {
      "cell_type": "code",
      "metadata": {
        "id": "aC7ZvCM2ffRj",
        "colab_type": "code",
        "outputId": "1b2980e1-253f-4b34-fc28-6516b4a6fbe9",
        "colab": {
          "base_uri": "https://localhost:8080/",
          "height": 85
        }
      },
      "source": [
        "matrix1 = [[3, -6], \n",
        "           [-9, 1],\n",
        "           [ 3, 5]]\n",
        "\n",
        "matrix2 = [[2, 4, -6], \n",
        "           [1, -9, 2]]\n",
        "\n",
        "# 1. Check the inner and outer indices\n",
        "\n",
        "\n",
        "\n",
        "\n",
        "# 2. Build a new matrix (a matrix of zeros.)\n",
        "# Build the inner matrix first\n",
        "inner_res = [0] * first_1\n",
        "\n",
        "# Build the outer matrix\n",
        "res  = [inner_res.copy() for _ in range(second_2)]\n",
        "\n",
        "\n",
        "# 3. Build the computation itself\n",
        "\n",
        "\n",
        "\n",
        "# --> Now put all the parts together\n",
        "\n",
        "\n",
        "\n",
        "\n",
        "# Test your function\n",
        "# mres =  \n",
        "\n",
        "# As a test that our calculation is correct (we will get to that later)\n",
        "import numpy as np\n",
        "mres_np = list(np.matmul(matrix1, matrix2))\n",
        "\n",
        "np.all(np.array(mres) == mres_np)"
      ],
      "execution_count": 0,
      "outputs": [
        {
          "output_type": "stream",
          "text": [
            "Test passed: inner_1 == outer_2\n",
            "[[0, 66, -30], [-17, -45, 56], [11, -33, -8]]\n",
            "Test passed: inner_1 == outer_2\n"
          ],
          "name": "stdout"
        },
        {
          "output_type": "execute_result",
          "data": {
            "text/plain": [
              "True"
            ]
          },
          "metadata": {
            "tags": []
          },
          "execution_count": 37
        }
      ]
    },
    {
      "cell_type": "markdown",
      "metadata": {
        "id": "iYRZca1Tn2Ys",
        "colab_type": "text"
      },
      "source": [
        "And there you have it, a first matrix multiplication function! Nice job! \n",
        "\n",
        "One last question: Remember the math introduction, the \"matrix-with-vector\" calculation. How would you need to alter the **input** to get the result with our \"matrix-with-matrix\" function?\n"
      ]
    },
    {
      "cell_type": "code",
      "metadata": {
        "id": "JKFbhj60pENF",
        "colab_type": "code",
        "colab": {}
      },
      "source": [
        "# Try it here!\n",
        "\n",
        "\n",
        "\n"
      ],
      "execution_count": 0,
      "outputs": []
    },
    {
      "cell_type": "markdown",
      "metadata": {
        "id": "bL3YHyMwoaj3",
        "colab_type": "text"
      },
      "source": [
        "## Your feedback\n",
        "\n",
        "What did you have problem with? What did you find easy? Please put your personal feedback down here:"
      ]
    }
  ]
}
{
 "cells": [
  {
   "cell_type": "markdown",
   "metadata": {
    "colab_type": "text",
    "id": "view-in-github"
   },
   "source": [
    "<a href=\"https://colab.research.google.com/github/FabianGD/TeachingAST/blob/master/Practical_Course_ASM_2_Follow_along.ipynb\" target=\"_parent\"><img src=\"https://colab.research.google.com/assets/colab-badge.svg\" alt=\"Open In Colab\"/></a>"
   ]
  },
  {
   "cell_type": "markdown",
   "metadata": {
    "colab_type": "text",
    "id": "0oAljo-EDN2B"
   },
   "source": [
    "# Next steps in Python programming\n",
    "\n",
    "## Short recap\n",
    "\n",
    "So, last week we started our journey into Python. What were the things we got to know last week?\n",
    "\n",
    "- Hello World\n",
    "- Calling functions (`print()`, `math.exp()`)\n",
    "- Basic data types in Python (`bool`, `float`, `int`, `str`)\n",
    "- Math operations in Python (`+, -, *, /, //, %`)\n",
    "- Defining functions (`morse()`)\n",
    "\n",
    "**Did you encounter problems / questions?**"
   ]
  },
  {
   "cell_type": "code",
   "execution_count": null,
   "metadata": {
    "colab": {},
    "colab_type": "code",
    "id": "GL2OuTMEC1hl"
   },
   "outputs": [],
   "source": [
    "# Test ground for problems\n",
    "\n"
   ]
  },
  {
   "cell_type": "markdown",
   "metadata": {
    "colab_type": "text",
    "id": "eAq1ysJlaANb"
   },
   "source": [
    "**Homework?** --> Conversion of data types"
   ]
  },
  {
   "cell_type": "markdown",
   "metadata": {
    "colab_type": "text",
    "id": "9PjZB4JZs-Wt"
   },
   "source": [
    "**Task:** As a short test, write the Morse potential function here again.\n",
    "\n",
    "The formula is the following:\n",
    "\n",
    "$$\n",
    "E=D(1-\\mathrm{e}^{-\\beta(r-r_{\\mathrm{eq}})})^2\n",
    "$$\n",
    "\n",
    "The parameters are as follows:\n",
    "\n",
    "- $\\beta = 2.203\\,\\frac{\\mathrm{1}}{\\mathrm{Å}}$\n",
    "- $r_{eq} = 0.917\\,\\mathrm{Å}$\n",
    "- $D = 590.7\\,\\frac{\\mathrm{kJ}}{\\mathrm{mol}}$\n"
   ]
  },
  {
   "cell_type": "code",
   "execution_count": null,
   "metadata": {
    "colab": {},
    "colab_type": "code",
    "id": "Abd3llhms92C"
   },
   "outputs": [],
   "source": [
    "import math\n",
    "\n",
    "# Here goes your function:\n",
    "\n",
    "\n",
    "# Now print the value of the potential at r = 2 Angstrom\n",
    "\n",
    "\n"
   ]
  },
  {
   "cell_type": "markdown",
   "metadata": {
    "colab_type": "text",
    "id": "E7KR7uxAGGed"
   },
   "source": [
    "## Repeating operations --> Introducing **loops**\n",
    "\n",
    "Currently, with every command we tell Python, the program does one thing. Suppose now that we would like to do a number of similar operations after each other, without explicitely coding every step. **How do we do that?**\n",
    "\n",
    "The answer is: we construct a **loop**. A loop is a code construct that runs the inside of the loop as often as we tell it to. Have an example:\n",
    "\n",
    "Suppose you want to calculate the squares of the numbers 0 to 20 and print them to the screen, how do you do that? See for yourself:\n",
    "\n",
    "---\n",
    "\n",
    "**Heads-up: Python starts counting from 0.** That means that indices (later) and the `range()` function will by default start from 0 and stop one before the number you requested (`range(21) --> 0,1,2,...,20`).\n",
    "\n",
    "---"
   ]
  },
  {
   "cell_type": "code",
   "execution_count": null,
   "metadata": {
    "colab": {},
    "colab_type": "code",
    "id": "JdBgvJhAd8SW"
   },
   "outputs": [],
   "source": [
    "for i in range(21):\n",
    "  print(i*i)"
   ]
  },
  {
   "cell_type": "markdown",
   "metadata": {
    "colab_type": "text",
    "id": "WAyAo7pigF5h"
   },
   "source": [
    "We use a construct called a `for` loop. We need three things for a loop:\n",
    "1. we start with the keyword `for`\n",
    "2. a variable that will be changed in each loop (the `i`)\n",
    "3. then the keyword `in` and\n",
    "4. an entity that generates the values of `i` (the `range()` function)\n",
    "5. a colon at the end of the line  \n",
    "\n",
    "You can read this first line as:\n",
    "\n",
    "***For every value i that is between 0 and 21, do the following:***\n",
    "\n",
    "**The line after that has to be indented** (the line has to begin with 2 spaces) to let Python know which parts belong to the loop body. You might remember this concept from the function definition in the last session.\n",
    "\n",
    "Now that you know how that works, try it yourself:\n",
    "\n",
    "**Task**: Print the result of $1/x$ for x between 1 and 10: "
   ]
  },
  {
   "cell_type": "code",
   "execution_count": null,
   "metadata": {
    "colab": {},
    "colab_type": "code",
    "id": "hyVBBncisgGY"
   },
   "outputs": [],
   "source": [
    "# Write the `for`-loop here:\n",
    "\n",
    "\n"
   ]
  },
  {
   "cell_type": "markdown",
   "metadata": {
    "colab_type": "text",
    "id": "E3JpVUZawy3f"
   },
   "source": [
    "Ok, good, your first `for`-loop! You will need these constructs a lot in Python.\n",
    "\n",
    "Here a second, more advanced **task**, build a `for` loop to calculate the Morse potential between 0.3$\\,$Å and 2.0$\\,$Å (including the ends) in steps of 0.1$\\,$Å. In order to do that, calculate the required `r` value from the start value and the loop variable `i`. How many steps will you need? "
   ]
  },
  {
   "cell_type": "code",
   "execution_count": null,
   "metadata": {
    "colab": {},
    "colab_type": "code",
    "id": "UCj0tJlswyWw"
   },
   "outputs": [],
   "source": [
    "# Write the `for`-loop here:\n",
    "\n"
   ]
  },
  {
   "cell_type": "markdown",
   "metadata": {
    "colab_type": "text",
    "id": "oKj25bEVs31a"
   },
   "source": [
    "And now, with one command construct, you can run the code inside the block as much as you would like it to. Nice, isn't it?\n",
    "\n",
    "There are a number of different loop structures, but for now, we will stick to `for` loops, to keep it nice and simple.\n",
    "\n",
    "However, one problem remains: We have no means of storing the data that we calculated. So we cannot plot that data or write it to a file. So, next up, we will introduce containers that allow us to store larger amounts of data. We will start with the most commonly used container, a `list`."
   ]
  },
  {
   "cell_type": "markdown",
   "metadata": {
    "colab_type": "text",
    "id": "XLJ0k-yJTTCs"
   },
   "source": [
    "## Lists\n",
    "\n",
    "Lists are a very handy construct in Python and we will meet them virtually everywhere.\n",
    "\n",
    "A list is a container that can hold any of the data types we introduced earlier and has to be surrounded by brackets `[` and `]`. In Python, lists are **heterogeneous containers** in that a single list can contain multiple different data types. \n",
    "\n",
    "```python\n",
    "# A list of int's\n",
    "list_int = [1, 2, 3, 4] \n",
    "\n",
    "# A list of float's\n",
    "list_flt = [1.0, 2.0, 3.0, 4.0] \n",
    "\n",
    "# A mixed list\n",
    "list_mix = [1.0, \"Hello\", 3, True] \n",
    "```\n",
    "\n",
    "Lists are super handy in Python. With a list come many functions that can be used on lists, such as the `len()` function that tells us the number of items in the list. We will get to know a number of different functionalities during the course.\n",
    "\n",
    "To generate lists quickly, there is syntax called *list comprehension* in Python, that we will use to calculate many values at once. "
   ]
  },
  {
   "cell_type": "markdown",
   "metadata": {
    "colab_type": "text",
    "id": "SjuZhpFhaSnr"
   },
   "source": [
    "### Indexing \n",
    "\n",
    "Another big thing when it comes to lists (or any container) in Python is indexing. \n",
    "\n",
    "Indexing means, simply put, to get a certain value or a specific subgroup of values from a container. We can index all kinds of containers, but for now, we will stick to `list`s.\n",
    "\n",
    "Assume you have the following list: \n",
    "\n",
    "```python\n",
    "l = [1, 2, 3, 4, 5, 6]\n",
    "```\n",
    "How can you access the third entry, the number `3`? With lists, indexes are always of the `int` datatype. The entries in a list are indexed starting from 0 and going up incrementally:\n",
    "\n",
    "```python\n",
    "# Index:  0  1  2  3  4  5\n",
    "l =      [1, 2, 3, 4, 5, 6]\n",
    "```\n",
    "\n",
    "To get a value from a list, we ask Python by using brackets `[]` behind the variable name, like so (in order to get the number `3`)\n"
   ]
  },
  {
   "cell_type": "code",
   "execution_count": null,
   "metadata": {
    "colab": {},
    "colab_type": "code",
    "id": "gJsDjiMtbZYd"
   },
   "outputs": [],
   "source": [
    "# Create the list\n",
    "l = [1, 2, 3, 4, 5, 6]\n",
    "\n",
    "# Index the number `3` from the list. The index is `2`\n",
    "number3 = l[2]\n",
    "\n",
    "print(number3)\n",
    "\n",
    "# Feel free to try on your own!"
   ]
  },
  {
   "cell_type": "markdown",
   "metadata": {
    "colab_type": "text",
    "id": "FIPtOUyqczZs"
   },
   "source": [
    "#### More indexing & slicing\n",
    "\n",
    "Besides indexing from the left you may also index from the right. Therefore you want to use negative integers:\n",
    "\n",
    "```python\n",
    "# Index left: | 0 | 1 | 2 | 3 | 4 | 5 |\n",
    "l =           [ 1,  2,  3,  4,  5,  6 ]\n",
    "# Index right:|-6 |-5 |-4 |-3 |-2 |-1 |\n",
    "```\n",
    "\n",
    "Furthermore, you can also get slices (sublists) from a list using a simple syntax. To get the first three items in the list, you would write:\n",
    "\n",
    "```python\n",
    "# Slice from left:       :1 | :2 | :3 | :4 | :5 | :\n",
    "l =                  [ 1,   2,   3,   4,   5,   6 ]\n",
    "# Slice from right:  : | -5:| -4:| -3:| -2:| -1: \n",
    "\n",
    "# To print the first three entries:\n",
    "print(l[:3])\n",
    "```\n",
    "\n",
    "This might be a lot to take in, so I encourage you **to try it out (you will get used to it very quickly!)**:"
   ]
  },
  {
   "cell_type": "code",
   "execution_count": null,
   "metadata": {
    "colab": {
     "base_uri": "https://localhost:8080/",
     "height": 85
    },
    "colab_type": "code",
    "id": "hl5KJAA3hoQ6",
    "outputId": "cbd00d4a-7d6b-4a4a-ba22-cce339972a10"
   },
   "outputs": [],
   "source": [
    "l = [0, 1, 2, 3, 4, 5, 6, 7, 8, 9, 10]\n",
    "\n",
    "# Feel free to try everything you like! \n",
    "print(l[5])\n",
    "print(l[:5])\n",
    "print(l[:])\n",
    "print(l[-1:])\n",
    "\n"
   ]
  },
  {
   "cell_type": "markdown",
   "metadata": {
    "colab_type": "text",
    "id": "qO5ffal9Xvot"
   },
   "source": [
    "### Operations on lists\n",
    "\n",
    "With standard Python lists, we can only operate on a single item of that list at the same time. But what we can do is that we generate lists from other lists, in a single statement. This process is called **list comprehension** and is, basically, a squished-together `for`-loop.\n",
    "\n",
    "So, let's calculate a list of values of `r` that we would know the potential at. To do this, we want to define a spacing `dr`, a start value `r_0` and a total number of values. \n",
    "\n",
    "The syntax required for this task is: \n",
    "\n",
    "```python\n",
    "list_of_values = [function(x) for x in list_of_x]\n",
    "```\n",
    "\n",
    "The `range()` function that you encountered above (in simple terms) just returns a list of integers in the boundaries that you specify.\n",
    "\n",
    "And now you go:"
   ]
  },
  {
   "cell_type": "code",
   "execution_count": null,
   "metadata": {
    "colab": {
     "base_uri": "https://localhost:8080/",
     "height": 71
    },
    "colab_type": "code",
    "id": "Dyl9kvizZ2LK",
    "outputId": "3ad6f78c-00eb-4a6e-defd-09ee1e764a92"
   },
   "outputs": [],
   "source": [
    "# A simple example: \n",
    "# range(5) is equivalent to a list of 5 ascending integers, starting at 0.\n",
    "print([x * x for x in range(5)])\n",
    "\n",
    "# Now you go! \n",
    "# Parameters: \n",
    "#   You want 1000 values or `r`, starting from 0.4 Angström \n",
    "#   with a spacing of 0.002 Angström\n",
    "\n",
    "\n"
   ]
  },
  {
   "cell_type": "markdown",
   "metadata": {
    "colab_type": "text",
    "id": "UUqkj3JUa74v"
   },
   "source": [
    "Nice, now you have a list of `r` values!\n",
    "\n",
    "With the same syntax as above, we can calculate the potential at every value of `r`. Here however, we want to use the values of the list as the input for the Morse potential. In Python, this is pretty easy, we can implicitely take each value from a list in a list comprehension:"
   ]
  },
  {
   "cell_type": "code",
   "execution_count": null,
   "metadata": {
    "colab": {},
    "colab_type": "code",
    "id": "4d1IUImOdJ8J"
   },
   "outputs": [],
   "source": [
    "# Write your answer here!"
   ]
  },
  {
   "cell_type": "markdown",
   "metadata": {
    "colab_type": "text",
    "id": "27tNsfAJdx1v"
   },
   "source": [
    "Great! We're already on the home stretch with the Morse potential! Now, let's make a small plot of that data. Therefore, we need the library `matplotlib.pyplot` which should already be installed.\n",
    "\n",
    "Simply import the library before using it with `import matplotlib.pyplot as plt`. Then, as the most simple command, use the function `plt.plot()` and give as input your list for the x axis first, then the list for the y axis, separated by commata:"
   ]
  },
  {
   "cell_type": "code",
   "execution_count": null,
   "metadata": {
    "colab": {
     "base_uri": "https://localhost:8080/",
     "height": 282
    },
    "colab_type": "code",
    "id": "EMaDSytVf1xK",
    "outputId": "08592772-2e3d-43e6-d41d-b0502dd81881"
   },
   "outputs": [],
   "source": [
    "# Simple example: \n",
    "import matplotlib.pyplot as plt\n",
    "\n",
    "xlist = [0, 1, 2, 3, 4] \n",
    "ylist = [x * x for x in xlist]\n",
    "\n",
    "# The following command is commented so that it does not interfere with you!\n",
    "# plt.plot(xlist, ylist)\n",
    "\n",
    "# And now you go!\n",
    "\n"
   ]
  },
  {
   "cell_type": "markdown",
   "metadata": {
    "colab_type": "text",
    "id": "xm2P6nNygU3P"
   },
   "source": [
    "There you have it! Nice! Congratulations, your first scientific calculation and data visulisation in Python! 🎉\n",
    "\n",
    "Now, we will cover a lot more ground on lists and how to calculate some more advanced things."
   ]
  },
  {
   "cell_type": "markdown",
   "metadata": {
    "colab_type": "text",
    "id": "zc5xoBSWthXU"
   },
   "source": [
    "## Working with input & some vector math\n",
    "\n",
    "In this section, we will depart from the Morse potential function (for now) and go into the realms of high school math & learn how to deal with input from a user or, even, from a file.\n",
    "\n",
    "\n",
    "\n",
    "\n",
    "\n"
   ]
  },
  {
   "cell_type": "markdown",
   "metadata": {
    "colab_type": "text",
    "id": "9AaEkR-RoZVl"
   },
   "source": [
    "### Multiplication of vectors & matrices\n",
    "\n",
    "So, let's start by going into the mathematical formulation of vector & matrix multiplications. We will find that the math concepts are easily adapted to code.\n",
    "\n",
    "So, let's first define a vector and a matrix. We will think of a vector $v$ as a 1-dimensional array of numbers (`float`s or `int`s), in math:\n",
    "\n",
    "$$\n",
    "\\mathbf{v} = \\pmatrix{v_1 \\\\ v_2 \\\\ ... \\\\ v_n}\n",
    "$$\n",
    "\n",
    "In our code world, vectors are typically represented as simple lists. Matrices are the logical next step, where each element, such as $v_1$, is by itself a vector. You go from a 1-dimensional construct to a 2-dimensional data structure, a matrix $\\mathbf{M}$:\n",
    "\n",
    "$$\n",
    "\\mathbf{A} = \\pmatrix{a_{11} a_{12}  \\cdots  a_{1m} \\\\\n",
    "             a_{21} a_{22}  \\cdots  a_{2m} \\\\ \n",
    "             \\vdots \\\\ \n",
    "             a_{n1} a_{n2}  \\cdots  a_{nm}\n",
    "             }\n",
    "$$\n",
    "\n"
   ]
  },
  {
   "cell_type": "markdown",
   "metadata": {
    "colab_type": "text",
    "id": "faax20snofs-"
   },
   "source": [
    "#### **Vectors & matrices with scalars**\n",
    "\n",
    "To calculate the product of a vector or matrix with a scalar (a number) $s$, we multiply each element in the structure with the scalar value:\n",
    "\n",
    "$$\n",
    "s \\cdot \\mathbf{v}= \\pmatrix{s \\cdot v_1 \\\\ s \\cdot v_2 \\\\ ... \\\\ s \\cdot v_n}\n",
    "$$\n",
    "\n",
    "This rule holds true for matrices and is therefore not depicted.\n",
    "\n"
   ]
  },
  {
   "cell_type": "markdown",
   "metadata": {
    "colab_type": "text",
    "id": "efi4BU5Iohux"
   },
   "source": [
    "#### **Vectors with vectors** \n",
    "\n",
    "The product of a two vectors, the so called scalar product, with vectors $\\mathbf{v}$ and $\\mathbf{u}$, is calculated by multiplying the elements elementwise and adding the results of each multiplication. The dimensions of the vectors\n",
    " have to match: $n_{\\mathbf{v}} = n_{\\mathbf{u}} = n$. We write this operation as:\n",
    "\n",
    "$$\n",
    "\\mathbf{w} = \\mathbf{v} \\cdot \\mathbf{u} = \\sum\\limits_{m=1}^n = v_m \\cdot u_m\n",
    "$$\n",
    "\n"
   ]
  },
  {
   "cell_type": "markdown",
   "metadata": {
    "colab_type": "text",
    "id": "BOdms6MEojy7"
   },
   "source": [
    "#### **Matrices with matrices**\n",
    "\n",
    "Assume we have two matrices $\\mathbf{A}$ and $\\mathbf{B}$ with elements $a_{ij}$ and $b_{jk}$ (the indices with the same letter *have* to match!), we can multiply them to get a matrix $\\mathbf{C}$ with elements $c_{ik}$ like so:\n",
    "\n",
    "$$\n",
    "c_{ik} = \\sum\\limits_j a_{ij} \\cdot b_{jk} \n",
    "$$\n",
    "\n",
    "This, of course, has to be conducted *for every entry* of $i$ and $k$.\n",
    "\n"
   ]
  },
  {
   "cell_type": "markdown",
   "metadata": {
    "colab_type": "text",
    "id": "D3B4jbR8omn8"
   },
   "source": [
    "#### **Matrices with vectors**\n",
    "\n",
    "If you remember your math classes, the product of a matrix and a vector gives us a vector back. **Why?**\n",
    "\n",
    "By calculating the product between a matrix $\\mathbf{A}$ (consisting of elements $a_{ij}$) and a vector $\\mathbf{v}$ with elements $v_j$, we want to get as a result the vector with elements $p_i$\n",
    "\n",
    "$$\n",
    "p_i = \\sum\\limits_j a_{ij} \\cdot v_j\n",
    "$$"
   ]
  },
  {
   "cell_type": "markdown",
   "metadata": {
    "colab_type": "text",
    "id": "MXttKOvW7fzF"
   },
   "source": [
    "### Getting from idea to code\n",
    "\n",
    "So now that we know how vector and matrix multiplication works, let's get to transfer that into code. Let's start with the easiest case, the multiplication with a scalar:\n",
    "\n",
    "**What do you think, how do we get this into code?**"
   ]
  },
  {
   "cell_type": "markdown",
   "metadata": {
    "colab_type": "text",
    "id": "N_hU5hJA8aXk"
   },
   "source": [
    "**>> Here goes your brainstorming**"
   ]
  },
  {
   "cell_type": "markdown",
   "metadata": {
    "colab_type": "text",
    "id": "HaANLKg58jKg"
   },
   "source": [
    "#### Vector & scalars\n",
    "\n",
    "So, and now let's get to code that. Please write the vector-scalar multiplication into **function form** that takes two inputs, a vector and a scalar.\n",
    "Hint: Use **list comprehension** for that."
   ]
  },
  {
   "cell_type": "code",
   "execution_count": null,
   "metadata": {
    "colab": {
     "base_uri": "https://localhost:8080/",
     "height": 34
    },
    "colab_type": "code",
    "id": "bqkhYpmdtfA3",
    "outputId": "7bac56b4-c4a6-44e4-e61b-3847ed19f05a"
   },
   "outputs": [],
   "source": [
    "#Those are the given vectors\n",
    "vector_1 = [1, 6, 3]\n",
    "scalar = 4\n",
    "\n",
    "# Here goes your function\n",
    "\n",
    "\n",
    "# Now call the function and print the result\n"
   ]
  },
  {
   "cell_type": "markdown",
   "metadata": {
    "colab_type": "text",
    "id": "cYX8trgRAqDS"
   },
   "source": [
    "Nice one! Now let's get going with the other functions.\n",
    "\n",
    "#### Matrices and scalars\n",
    "\n",
    "So, in the Python world, what is a matrix? Basically, a matrix can be represented as a list of lists. That means that instead of single integers or floats, the contents of the list is itself, a list. See here: "
   ]
  },
  {
   "cell_type": "code",
   "execution_count": null,
   "metadata": {
    "colab": {
     "base_uri": "https://localhost:8080/",
     "height": 51
    },
    "colab_type": "code",
    "id": "RIh7XUR1B4Yc",
    "outputId": "cf1d2380-e076-466c-9b19-7c409bc8b949"
   },
   "outputs": [],
   "source": [
    "# Let's define a vector for comparison:\n",
    "vector_2 = [2, 4, 8]\n",
    "print(vector_2)\n",
    "\n",
    "# And now, a matrix:\n",
    "matrix_1 = [[2, 4, 6], \n",
    "            [1, 9, 2],\n",
    "            [-1, 3, 6]]\n",
    "print(matrix_1)"
   ]
  },
  {
   "cell_type": "markdown",
   "metadata": {
    "colab_type": "text",
    "id": "rtFQAAYTCp5A"
   },
   "source": [
    "So now that we defined matrices, we can actually work with them. Let's build a function that multiplies a matrix with a scalar.\n",
    "\n",
    "---\n",
    "\n",
    "**Heads up** You see that we already defined a function that multiplies a vector with a scalar. How is a matrix different form a vector? Can you use the previously defined function for that? Try it!\n",
    "\n",
    "---\n",
    "\n",
    "Now you go!"
   ]
  },
  {
   "cell_type": "code",
   "execution_count": null,
   "metadata": {
    "colab": {},
    "colab_type": "code",
    "id": "qQbZigtwELtk"
   },
   "outputs": [],
   "source": [
    "matrix_2 = [[2, 4, -6], \n",
    "            [1, -9, 2],\n",
    "            [-1, 3, 6]]\n",
    "\n",
    "scalar_2 = 0.36\n",
    "\n",
    "# Here goes your function:\n",
    "\n",
    "\n",
    "# Now call the function with the matrix and the scalar\n"
   ]
  },
  {
   "cell_type": "markdown",
   "metadata": {
    "colab_type": "text",
    "id": "S7VkPH3ZFdqy"
   },
   "source": [
    "Good! And a beautiful example for code reuse! \n",
    "\n",
    "**What do you think are the advantages to reuse the code that you already have?**"
   ]
  },
  {
   "cell_type": "markdown",
   "metadata": {
    "colab_type": "text",
    "id": "0LtWBVXXFzj6"
   },
   "source": [
    "**>> Here go your thoughts**"
   ]
  },
  {
   "cell_type": "markdown",
   "metadata": {
    "colab_type": "text",
    "id": "efwCuJNoF3hE"
   },
   "source": [
    "#### **Exploration**: If-else statements\n",
    "\n",
    "Now we will multiply vectors with each other. The math behind this operation is straight forward, isn't it?\n",
    "\n",
    "Nonetheless, we will find a serious problem: What happens when two vector do not have the same length? And how can we check that?\n",
    "\n",
    "To answer this question, we need to think of a way to check for the condition of the input of a function, a so called **conditional statement**. In Python, these statements are implemented as constructs called **if-else statements**. Take the following example to get to know the syntax:\n",
    "\n"
   ]
  },
  {
   "cell_type": "code",
   "execution_count": null,
   "metadata": {
    "colab": {},
    "colab_type": "code",
    "id": "KbSPZ2_PIwAu"
   },
   "outputs": [],
   "source": [
    "# Test if one number is smaller or greater than another:\n",
    "nr1 = 1\n",
    "nr2 = -19\n",
    "\n",
    "if nr1 <= nr2:\n",
    "  # If the `if` statement returns `True`\n",
    "  print(\"Nr1 is smaller than or equal to Nr2\")\n",
    "else:\n",
    "  # If the `if` statement returns `False`\n",
    "  print(\"Nr1 is greater than Nr2\")\n",
    "\n",
    "# Feel free to try with these constructs before continuing"
   ]
  },
  {
   "cell_type": "markdown",
   "metadata": {
    "colab_type": "text",
    "id": "9t53jwYTKTww"
   },
   "source": [
    "Now you have the possibility to check between two values, but what about more possibilities? There, you can use a `elif` statement (short for `else if`) like so:"
   ]
  },
  {
   "cell_type": "code",
   "execution_count": null,
   "metadata": {
    "colab": {},
    "colab_type": "code",
    "id": "xl8ZKcxYXw4L"
   },
   "outputs": [],
   "source": [
    "# Test if one number is smaller or greater than another:\n",
    "nr1 = 1\n",
    "nr2 = -19\n",
    "\n",
    "if nr1 < nr2:\n",
    "  # If the `if` statement returns `True`\n",
    "  print(\"Nr1 is smaller than Nr2\")\n",
    "\n",
    "elif nr1 < nr2:\n",
    "  # If the `if` statement returns `True`\n",
    "  print(\"Nr1 is equal to Nr2\")\n",
    "\n",
    "else:\n",
    "  # If the `if` statement returns `False`\n",
    "  # The `else` part is always the last one in an if...elif...else sequence.\n",
    "  print(\"Nr1 is greater than Nr2\")\n",
    "\n",
    "# Feel free to try with these constructs before continuing!"
   ]
  },
  {
   "cell_type": "markdown",
   "metadata": {
    "colab_type": "text",
    "id": "VmrJKOXdaZSH"
   },
   "source": [
    "#### Vectors with vectors\n",
    "\n",
    "So now that we can check conditions using if-else statements, let's put that knowledge to the test.\n",
    "\n",
    "**Task:** Build a function that takes two vectors as input and **internally checks whether both vectors have the same length** (use the `len()` function). If the vectors are of the same length, **compute the scalar product** (there is a `sum()` function that can be used the compute the sum of a list). If not, raise an error using the statement `raise Exception(\"Not the same length.\")`. We will discuss the details in the course.\n"
   ]
  },
  {
   "cell_type": "code",
   "execution_count": null,
   "metadata": {
    "colab": {},
    "colab_type": "code",
    "id": "uZ9-zRyPcIDQ"
   },
   "outputs": [],
   "source": [
    "# Your input\n",
    "vec1 = [1, 2, 1]\n",
    "vec2 = [1, 6, 3]\n",
    "\n",
    "# Here goes the function:\n",
    "\n",
    "\n",
    "\n",
    "\n",
    "# Call the function"
   ]
  },
  {
   "cell_type": "markdown",
   "metadata": {
    "colab_type": "text",
    "id": "ZFlp2zj1dOgy"
   },
   "source": [
    "#### Matrices with matrices\n",
    "\n",
    "So, now for the topping! Lets multiply matrices with matrices together. This one might get a bit more complex. But hold on, I know you can do it!\n",
    "\n",
    "So, what do we need?\n",
    "\n",
    "1. We need to check the inner and outer indices (the inner of the first and the outer index of the second need to match). For now we assume that the inner lists have the same length and are not malformed.\n",
    "2. We need to put together a new matrix from the indices\n",
    "3. We need to calculate each matrix element on it's own\n",
    "\n",
    "So let's get started. We can build the individual components first (outside of a function) and then later tie the ends together."
   ]
  },
  {
   "cell_type": "code",
   "execution_count": null,
   "metadata": {
    "colab": {
     "base_uri": "https://localhost:8080/",
     "height": 85
    },
    "colab_type": "code",
    "id": "aC7ZvCM2ffRj",
    "outputId": "1b2980e1-253f-4b34-fc28-6516b4a6fbe9"
   },
   "outputs": [],
   "source": [
    "matrix1 = [[3, -6], \n",
    "           [-9, 1],\n",
    "           [ 3, 5]]\n",
    "\n",
    "matrix2 = [[2, 4, -6], \n",
    "           [1, -9, 2]]\n",
    "\n",
    "# 1. Check the inner and outer indices\n",
    "\n",
    "\n",
    "\n",
    "\n",
    "# 2. Build a new matrix (a matrix of zeros.)\n",
    "# Build the inner matrix first\n",
    "inner_res = [0] * first_1\n",
    "\n",
    "# Build the outer matrix\n",
    "res  = [inner_res.copy() for _ in range(second_2)]\n",
    "\n",
    "\n",
    "# 3. Build the computation itself\n",
    "\n",
    "\n",
    "\n",
    "# --> Now put all the parts together\n",
    "\n",
    "\n",
    "\n",
    "\n",
    "# Test your function\n",
    "# mres =  \n",
    "\n",
    "# As a test that our calculation is correct (we will get to that later)\n",
    "import numpy as np\n",
    "mres_np = list(np.matmul(matrix1, matrix2))\n",
    "\n",
    "np.all(np.array(mres) == mres_np)"
   ]
  },
  {
   "cell_type": "markdown",
   "metadata": {
    "colab_type": "text",
    "id": "iYRZca1Tn2Ys"
   },
   "source": [
    "And there you have it, a first matrix multiplication function! Nice job! \n",
    "\n",
    "One last question: Remember the math introduction, the \"matrix-with-vector\" calculation. How would you need to alter the **input** to get the result with our \"matrix-with-matrix\" function?\n"
   ]
  },
  {
   "cell_type": "code",
   "execution_count": null,
   "metadata": {
    "colab": {},
    "colab_type": "code",
    "id": "JKFbhj60pENF"
   },
   "outputs": [],
   "source": [
    "# Try it here!\n",
    "\n",
    "\n",
    "\n"
   ]
  },
  {
   "cell_type": "markdown",
   "metadata": {
    "colab_type": "text",
    "id": "bL3YHyMwoaj3"
   },
   "source": [
    "## Your feedback\n",
    "\n",
    "What did you have problem with? What did you find easy? Please put your personal feedback down here:"
   ]
  }
 ],
 "metadata": {
  "colab": {
   "authorship_tag": "ABX9TyNNWdXSK+Nb6YhSJVFYJBJA",
   "collapsed_sections": [],
   "include_colab_link": true,
   "name": "Practical Course ASM // 2 -- Follow along",
   "provenance": [],
   "toc_visible": true
  },
  "kernelspec": {
   "display_name": "Python 3",
   "name": "python3"
  }
 },
 "nbformat": 4,
 "nbformat_minor": 0
}

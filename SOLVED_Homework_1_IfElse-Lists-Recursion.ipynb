{
  "nbformat": 4,
  "nbformat_minor": 0,
  "metadata": {
    "colab": {
      "name": "Homework no. 1 for Python programming AST 2020",
      "provenance": [],
      "collapsed_sections": [],
      "toc_visible": true,
      "authorship_tag": "ABX9TyPKhsTAjr3Ydh1XQS0DQdAS",
      "include_colab_link": true
    },
    "kernelspec": {
      "name": "python3",
      "display_name": "Python 3"
    }
  },
  "cells": [
    {
      "cell_type": "markdown",
      "metadata": {
        "id": "view-in-github",
        "colab_type": "text"
      },
      "source": [
        "<a href=\"https://colab.research.google.com/github/FabianGD/TeachingAST/blob/master/Homework_1_IfElse-Lists-Recursion.ipynb\" target=\"_parent\"><img src=\"https://colab.research.google.com/assets/colab-badge.svg\" alt=\"Open In Colab\"/></a>"
      ]
    },
    {
      "cell_type": "markdown",
      "metadata": {
        "id": "ztJ3vz83eesI",
        "colab_type": "text"
      },
      "source": [
        "# Homework / Voluntary tasks to get to know Python\n",
        "\n",
        "The following tasks are thought as a complement to the Python programming lessons in the Advanced Simulation Techniques module for the Chemistry of Materials Masters program. I do encourage you to do the tasks and persevere until you actually finish them!\n",
        "\n"
      ]
    },
    {
      "cell_type": "markdown",
      "metadata": {
        "id": "9KSkWRq_JWvz",
        "colab_type": "text"
      },
      "source": [
        "## 0 » If else statements\n",
        "\n",
        "Before I let you loose on the tasks, let me give you a quick introduction into **conditional statements**. \n",
        "\n",
        "In case you want to ask Python a question (a yes/no question to be precise) and have the program flow altered by the answer, you need conditionals.\n",
        "\n",
        "In Python, you use comparisons to ask a question a la:\n",
        "\n",
        "- Is this number stored in `x` lower than 10? --> In Python: `x < 10`, \n",
        "- is this number stored in `x` exactly 10? --> In Python: `x == 10`,\n",
        "- and so on ...\n",
        "\n",
        "Now, if you want to check a condition and run code specific to the result, use an `if`-`else` statement:"
      ]
    },
    {
      "cell_type": "code",
      "metadata": {
        "id": "QK_MSEqAJWIb",
        "colab_type": "code",
        "colab": {
          "base_uri": "https://localhost:8080/",
          "height": 52
        },
        "outputId": "9573bf5b-7ddf-405b-f541-0b3827b4f0fb"
      },
      "source": [
        "# Run the `input()` function and see what it does!\n",
        "x = input(\"Give your number! \")\n",
        "\n",
        "# What do I do with the `int()` function\n",
        "if int(x) < 10:\n",
        "  # This block is executed when the question `x < 10` returns True\n",
        "  print(\"Your number is lower than 10.\")\n",
        "  \n",
        "else: \n",
        "  # This block is executed when the question `x < 10` returns False\n",
        "  print(\"Your number is not lower than 10.\")\n",
        "\n"
      ],
      "execution_count": null,
      "outputs": [
        {
          "output_type": "stream",
          "text": [
            "Give your number! 10\n",
            "Your number is not lower than 10.\n"
          ],
          "name": "stdout"
        }
      ]
    },
    {
      "cell_type": "markdown",
      "metadata": {
        "id": "HJhjZ6CoK8qe",
        "colab_type": "text"
      },
      "source": [
        "Note that here, the line with the `if` on it starts with an `if`, then you ask your question and end the line with a colon `:` .\n",
        "\n",
        "If the result of the question is `True`, the block of code directly below will be executed.\n",
        "\n",
        "If the result of the question is `False`, the block of code directly below will *NOT* be executed. \n",
        "\n",
        "There is one additional feature. If you want to check a number of conditions one after another, you can ask multiple questions using the `elif` (short for `else if`) statement:\n",
        "\n"
      ]
    },
    {
      "cell_type": "code",
      "metadata": {
        "id": "sZpPYx69K76_",
        "colab_type": "code",
        "colab": {}
      },
      "source": [
        "# Run the `input()` function and see what it does!\n",
        "x = input(\"Give your number! \")\n",
        "\n",
        "# What do I do with the `int()` function\n",
        "if int(x) < 10:\n",
        "  # This block is executed when the question `x < 10` returns True\n",
        "  print(\"Your number is lower than 10.\")\n",
        "\n",
        "elif int(x) == 10:\n",
        "  # This block is executed when the question `x == 10` returns True\n",
        "  print(\"Your number is exactly 10.\")\n",
        "\n",
        "else: \n",
        "  # This block is executed when all other questions return False\n",
        "  print(\"Your number is not lower than 10.\")\n"
      ],
      "execution_count": null,
      "outputs": []
    },
    {
      "cell_type": "markdown",
      "metadata": {
        "id": "JjT-i5u-rXtj",
        "colab_type": "text"
      },
      "source": [
        "Of course, you can use these constructs everywhere you like (such as in a function) to alter your program flow based on these questions. Now try the tasks below. If you encounter problems and you don't know what to do, shoot me an email at fabian.droege@uni-jena.de."
      ]
    },
    {
      "cell_type": "markdown",
      "metadata": {
        "id": "4saYLoRqg4GH",
        "colab_type": "text"
      },
      "source": [
        "## 1 » Code comprehension\n",
        "\n",
        "In this task, take the following code, try to run it and find out what it does. Answer the following questions:\n",
        "\n",
        "1. What does `import random` do? What does `random.randint()` return?\n",
        "2. What is the point of the `while` statement?\n",
        "3. What does the function `input()` do?"
      ]
    },
    {
      "cell_type": "code",
      "metadata": {
        "id": "QMS5gznfiXNO",
        "colab_type": "code",
        "colab": {
          "base_uri": "https://localhost:8080/",
          "height": 155
        },
        "outputId": "85840a40-b375-42e2-c7b9-4cebfb23833a"
      },
      "source": [
        "import random\n",
        "\n",
        "game_is_running = True\n",
        "\n",
        "target = random.randint(1,100)\n",
        "print(target)\n",
        "\n",
        "# Hint: `while game_is_running:` is the same as `while game_is_running == True:`\n",
        "while game_is_running:\n",
        "    \n",
        "    guess = input(\"Your guess: \")\n",
        "    guess = int(guess)\n",
        "    \n",
        "    if guess == target:\n",
        "        print(\"Congratulations!\")\n",
        "        game_is_running = False\n",
        "    elif guess > target:\n",
        "        print(\"Too large\")\n",
        "    else:\n",
        "        print(\"Too small\")\n",
        "\n",
        "print(\"Game done!\")"
      ],
      "execution_count": null,
      "outputs": [
        {
          "output_type": "stream",
          "text": [
            "95\n",
            "Your guess: 5\n",
            "Too small\n",
            "Your guess: 99\n",
            "Too large\n",
            "Your guess: 95\n",
            "Congratulations!\n",
            "Game done!\n"
          ],
          "name": "stdout"
        }
      ]
    },
    {
      "cell_type": "markdown",
      "metadata": {
        "id": "03u_JhN7zXJK",
        "colab_type": "text"
      },
      "source": [
        "### 1.1 » Make it more personal!\n",
        "\n",
        "Modify the program above to have Python ask for your name. Then use this name to congratulate you once you finish. **Hint**: You can glue strings together using the `+` operator. E.g., `\"Hello \" + \"World\"` gives you `\"Hello World\"` "
      ]
    },
    {
      "cell_type": "code",
      "metadata": {
        "colab_type": "code",
        "id": "lUT3mGIQ0aT1",
        "colab": {
          "base_uri": "https://localhost:8080/",
          "height": 86
        },
        "outputId": "3e301ef8-e609-4a18-f8bf-dca38ae226fe"
      },
      "source": [
        "# Modify this program to congratulate you personally!\n",
        "\n",
        "import random\n",
        "\n",
        "game_is_running = True\n",
        "\n",
        "target = random.randint(1,100)\n",
        "print(target)\n",
        "\n",
        "name = input(\"Your name: \")\n",
        "\n",
        "# Hint: `while game_is_running:` is the same as `while game_is_running == True:`\n",
        "while game_is_running:\n",
        "    # \n",
        "    guess = input(\"Your guess: \")\n",
        "    guess = int(guess)\n",
        "    # \n",
        "    if guess in [target - 1, target, target + 1]:\n",
        "        print(\"Congratulations, \" + name + \"!\")\n",
        "        game_is_running = False\n",
        "    elif guess > target:\n",
        "        print(\"Too large\")\n",
        "    else:\n",
        "        print(\"Too small\")"
      ],
      "execution_count": null,
      "outputs": [
        {
          "output_type": "stream",
          "text": [
            "1\n",
            "Your name: F\n",
            "Your guess: 2\n",
            "Congratulations, F!\n"
          ],
          "name": "stdout"
        }
      ]
    },
    {
      "cell_type": "markdown",
      "metadata": {
        "id": "CGxncukKIVTk",
        "colab_type": "text"
      },
      "source": [
        "## 2 » Calculating stuff with vectors & matrices\n",
        "\n",
        "In the last lesson you learned how to respresent a vector in Python, as a `list`. As lists are not confined to a specific length, we want to check whether two vectors have the same length.\n",
        "\n"
      ]
    },
    {
      "cell_type": "markdown",
      "metadata": {
        "id": "BuwYnddJsYbU",
        "colab_type": "text"
      },
      "source": [
        "### 2.1 » Check vector lengths\n",
        "**Task**: Write a function that takes to vectors and which checks whether the length of both vectors are the same! Hint: use the `len()` function. If the vectors have the same length, have the function return `True`, else `False`."
      ]
    },
    {
      "cell_type": "code",
      "metadata": {
        "id": "aPdiwDOmtCIZ",
        "colab_type": "code",
        "colab": {}
      },
      "source": [
        "# Here goes your code. Name the function `vec_check()`\n",
        "\n",
        "\n"
      ],
      "execution_count": null,
      "outputs": []
    },
    {
      "cell_type": "markdown",
      "metadata": {
        "id": "06g2HlEzvp-E",
        "colab_type": "text"
      },
      "source": [
        "### 2.2 » Check matrix dimensions (advanced)\n",
        "\n",
        "Now extend your function to allow for length checking of matrices. As matrices have an \"outer and an \"inner\" length, you need to modify your function: \n",
        "\n",
        "1. Include a third argument which shall be a list of 2 strings.\n",
        "  - The two elements can be either \"o\" or \"i\", denoting the inner (\"i\") or outer (\"o\") index respectively.\n",
        "  - The order of the elements is identical to the order of the input matrices.\n",
        "  - I. e., the function shall be called like `mat_check(mat1, mat2, [\"i\", \"o\"])` if you want to compare the inner length of `mat1` with the outer length of `mat2`.\n",
        "\n",
        "2. In the function, distinguish between the inner and outer indices of the matrix. Hint: You can get a specific element of a matrix with two indexing operations, such as `matrix[outer][inner]`, where `outer` and `inner` are integers.\n",
        "\n",
        "3. Have the function return `True` or `False`, depending on whether the lengths of the requested dimensions match. Assume that the all inner lists have the same length (i.e. all matrices are well-formed). "
      ]
    },
    {
      "cell_type": "code",
      "metadata": {
        "id": "0M7_t9AAyenF",
        "colab_type": "code",
        "colab": {}
      },
      "source": [
        "\n",
        "# 3 x 3 matrix\n",
        "m1 = [[1, 2, 3], \n",
        "      [11,1,1,], \n",
        "      [4, 4, 4]]\n",
        "\n",
        "# 4 x 3 matrix\n",
        "m2 = [[1, 2, 3],\n",
        "      [11,1,1,],\n",
        "      [4, 4, 4],\n",
        "      [4, 4, 4]]\n",
        "\n",
        "# Here goes your function, call it `mat_check()`\n",
        "def mat_check(mat1, mat2, inout):\n",
        "  \n",
        "  # First matrix\n",
        "  if inout[0] == \"row\":\n",
        "    l1 = len(mat1)\n",
        "  else:\n",
        "    l1 = len(mat1[0])\n",
        "\n",
        "  # Second matrix\n",
        "  if inout[-1] == \"row\":\n",
        "    l2 = len(mat2)\n",
        "  else:\n",
        "    l2 = len(mat2[0])\n",
        "\n",
        "  if l1 == l2:\n",
        "    return True\n",
        "  else:\n",
        "    return False\n",
        "\n",
        "\n",
        "print(mat_check(m1, m2, [\"row\", \"col\"]))\n",
        "print(mat_check(m1, m2, [\"col\", \"col\"]))\n",
        "print(mat_check(m1, m2, [\"col\", \"row\"]))\n",
        "print(mat_check(m1, m2, [\"row\", \"row\"]))\n"
      ],
      "execution_count": null,
      "outputs": []
    },
    {
      "cell_type": "markdown",
      "metadata": {
        "id": "MX7HXNlku3I-",
        "colab_type": "text"
      },
      "source": [
        "### 2.2 » Calculate the scalar product of two vectors\n",
        "\n",
        "Now that you can check the length of two vectors, you can also calculate the scalar product. \n",
        "\n",
        "You can implement it very similar to the math expression stated in the second notebook in that you build a `for` loop (the sum) that loops over the integer indices of the vector. Hint: You can overwrite a variable with a statement like `x = x + 5` where you take the old value of `x`, add `5` to it and store it back in `x`.\n",
        "\n",
        "**Task**: Build a function that takes two vectors as input, checks their length (use the `vec_check()` function for that) and if both vectors have the same length, calculates the scalar product. "
      ]
    },
    {
      "cell_type": "code",
      "metadata": {
        "id": "15Y0aX5p2jR-",
        "colab_type": "code",
        "colab": {
          "base_uri": "https://localhost:8080/",
          "height": 35
        },
        "outputId": "596698f1-0c34-48be-cad0-7b80b1ce937e"
      },
      "source": [
        "# Have fun! \n",
        "def vec_check(vec1 , vec2):\n",
        "  l1 = len(vec1)\n",
        "  l2 = len(vec2)\n",
        "\n",
        "  if l1 == l2:\n",
        "    res = True\n",
        "  else: \n",
        "    res = False\n",
        "\n",
        "  return res\n",
        "\n",
        "# v0*u0 + v1*u1 + v2*u2 + v3*u3 + ...\n",
        "\n",
        "def dot(vec1, vec2):\n",
        "  if vec_check(vec1, vec2):\n",
        "    # Computation\n",
        "    length = len(vec1)\n",
        "\n",
        "    res = 0.0\n",
        "    for i in range(length):\n",
        "      res = res + vec1[i] * vec2[i]\n",
        "\n",
        "    return res\n",
        "\n",
        "  else:\n",
        "    # No computation\n",
        "    raise Error(\"Sorry, no scalar product.\")\n",
        "\n",
        "\n",
        "vec1 = [1,1,1,1,11]\n",
        "vec2 = [1,1,1,1,12]\n",
        "\n",
        "\n",
        "# dot(vec1, vec2)"
      ],
      "execution_count": null,
      "outputs": [
        {
          "output_type": "execute_result",
          "data": {
            "text/plain": [
              "True"
            ]
          },
          "metadata": {
            "tags": []
          },
          "execution_count": 17
        }
      ]
    },
    {
      "cell_type": "markdown",
      "metadata": {
        "id": "uc22lPuvg2bi",
        "colab_type": "text"
      },
      "source": [
        "## 3 » Fibonacci series (advanced)\n",
        "\n",
        "This is a classic exercise to get students to understand the mathematic concept of *recursion*. Recursion ism, in simplified computer terms, the idea that a function calls itself when it is called. Thereby it generates an implicit \"loop\" until a \"final\" statement is reached and the \"loop\" breaks.\n",
        "\n",
        "The Fibonacci series includes the values 0, 1, 1, 2, 3, 5, 8, 13, 21, and so on. \n",
        "\n",
        "It is comprised by $f(0) = 0$, $f(1) = 1$, $f(2) = 1$ and $f(n) = f(n-2) + f(n-1)$. You see that the function $f$ calls itself.\n",
        "\n",
        "**Task**: Write that function in Python code. (You will need an if-else statement (see the notebook #2 for that) to check whether the base case ($n=0$) is reached yet.)"
      ]
    },
    {
      "cell_type": "code",
      "metadata": {
        "id": "Dgky_L1Lec2N",
        "colab_type": "code",
        "colab": {
          "base_uri": "https://localhost:8080/",
          "height": 35
        },
        "outputId": "81a01f90-d835-4da3-90c7-96fbce507664"
      },
      "source": [
        "# Here goes the Fibonacci function. Call the function `fib()`\n",
        "def fib(n):\n",
        "\n",
        "  if n == 0:\n",
        "    return 0\n",
        "\n",
        "  elif n in [1, 2]:\n",
        "    return 1\n",
        "\n",
        "  else:   # n has to be greater than 2\n",
        "    return fib(n-2) + fib(n-1)\n",
        "\n",
        "\n",
        "print(fib(3)) #  => fib(1) + fib(2)\n",
        "print(fib(4)) #  => fib(2) + fib(3) => fib(2) + ( fib(1) + fib(2) )\n",
        "print(fib(5)) #  => fib(3) + fib(4) => ( fib(1) + fib(2) )...\n",
        "\n",
        "\n"
      ],
      "execution_count": null,
      "outputs": [
        {
          "output_type": "execute_result",
          "data": {
            "text/plain": [
              "1"
            ]
          },
          "metadata": {
            "tags": []
          },
          "execution_count": 18
        }
      ]
    }
  ]
}
